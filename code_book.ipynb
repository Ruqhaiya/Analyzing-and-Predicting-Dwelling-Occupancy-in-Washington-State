{
  "nbformat": 4,
  "nbformat_minor": 0,
  "metadata": {
    "colab": {
      "provenance": []
    },
    "kernelspec": {
      "name": "python3",
      "display_name": "Python 3"
    },
    "language_info": {
      "name": "python"
    }
  },
  "cells": [
    {
      "cell_type": "code",
      "source": [
        "# !pip install ydata-profiling"
      ],
      "metadata": {
        "id": "lamcrLyQ9Haw"
      },
      "execution_count": 106,
      "outputs": []
    },
    {
      "cell_type": "code",
      "source": [
        "import pandas as pd\n",
        "import numpy as np\n",
        "# from ydata_profiling import ProfileReport\n",
        "import pandas as pd\n",
        "import matplotlib.pyplot as plt\n",
        "from sklearn.svm import SVC\n",
        "from sklearn.metrics import roc_curve, accuracy_score\n",
        "from mlxtend.plotting import plot_decision_regions\n",
        "from sklearn.model_selection import train_test_split,GridSearchCV\n",
        "from sklearn.linear_model import SGDClassifier\n",
        "import matplotlib.pyplot as plt\n",
        "from sklearn.preprocessing import MinMaxScaler\n",
        "import seaborn as sns\n",
        "import warnings\n",
        "warnings.filterwarnings('ignore')\n",
        "from sklearn.metrics import classification_report, confusion_matrix\n",
        "%matplotlib inline"
      ],
      "metadata": {
        "id": "QCSnAxrLkb3d"
      },
      "execution_count": 107,
      "outputs": []
    },
    {
      "cell_type": "code",
      "source": [
        "# @title loading data\n",
        "df = pd.read_csv('Housing.csv')\n",
        "df.shape,df.columns, df.dtypes"
      ],
      "metadata": {
        "colab": {
          "base_uri": "https://localhost:8080/",
          "height": 0
        },
        "id": "U8JqECnYtRP1",
        "outputId": "8e5a6af3-05c5-47f1-d3f5-0dbcb6537241"
      },
      "execution_count": 108,
      "outputs": [
        {
          "output_type": "execute_result",
          "data": {
            "text/plain": [
              "((75388, 24),\n",
              " Index(['SERIAL', 'DENSITY', 'OWNERSHP', 'OWNERSHPD', 'COSTELEC', 'COSTGAS',\n",
              "        'COSTWATR', 'COSTFUEL', 'HHINCOME', 'VALUEH', 'ROOMS', 'BUILTYR2',\n",
              "        'BEDROOMS', 'VEHICLES', 'NFAMS', 'NCOUPLES', 'PERNUM', 'PERWT', 'AGE',\n",
              "        'MARST', 'BIRTHYR', 'EDUC', 'EDUCD', 'INCTOT'],\n",
              "       dtype='object'),\n",
              " SERIAL         int64\n",
              " DENSITY      float64\n",
              " OWNERSHP       int64\n",
              " OWNERSHPD      int64\n",
              " COSTELEC       int64\n",
              " COSTGAS        int64\n",
              " COSTWATR       int64\n",
              " COSTFUEL       int64\n",
              " HHINCOME       int64\n",
              " VALUEH         int64\n",
              " ROOMS          int64\n",
              " BUILTYR2       int64\n",
              " BEDROOMS       int64\n",
              " VEHICLES       int64\n",
              " NFAMS          int64\n",
              " NCOUPLES       int64\n",
              " PERNUM         int64\n",
              " PERWT          int64\n",
              " AGE            int64\n",
              " MARST          int64\n",
              " BIRTHYR        int64\n",
              " EDUC           int64\n",
              " EDUCD          int64\n",
              " INCTOT         int64\n",
              " dtype: object)"
            ]
          },
          "metadata": {},
          "execution_count": 108
        }
      ]
    },
    {
      "cell_type": "markdown",
      "source": [
        "\n",
        "Description of all varibles\n",
        "\n",
        "| Column   | Description |\n",
        "|----------|-------------|\n",
        "| SERIAL   | Unique serial number of the record |\n",
        "| DENSITY  | Population density of the area |\n",
        "| OWNERSHP | Ownership status (1 for owner, 2 for renter) |\n",
        "| OWNERSHPD| Detailed ownership status |\n",
        "| COSTELEC | Monthly electricity cost |\n",
        "| COSTGAS  | Monthly gas cost |\n",
        "| COSTWATR | Monthly water cost |\n",
        "| COSTFUEL | Monthly fuel cost |\n",
        "| HHINCOME | Household income |\n",
        "| VALUEH   | House value |\n",
        "| ROOMS    | Number of rooms |\n",
        "| BUILTYR2 | Year of construction |\n",
        "| BEDROOMS | Number of bedrooms |\n",
        "| VEHICLES | Number of vehicles |\n",
        "| NFAMS    | Number of families in the household |\n",
        "| NCOUPLES | Number of couples in the household |\n",
        "| PERNUM   | Person number within household |\n",
        "| PERWT    | indicates how many individuals in the U.S. population are statistically represented by a given person |\n",
        "| AGE      | Age of respondent |\n",
        "| MARST    | Marital status |\n",
        "| BIRTHYR  | Year of birth |\n",
        "| EDUC     | Education level |\n",
        "| EDUCD    | Detailed education level |\n",
        "| INCTOT   | Total pre-tax personal income or losses from all sources for the previous year.|\n"
      ],
      "metadata": {
        "id": "cEit4EEY48gs"
      }
    },
    {
      "cell_type": "code",
      "source": [
        "df.head()"
      ],
      "metadata": {
        "colab": {
          "base_uri": "https://localhost:8080/",
          "height": 235
        },
        "id": "I7_RYOw3vCUI",
        "outputId": "83aa0e10-a075-470a-aa6c-0c279c59b157"
      },
      "execution_count": 109,
      "outputs": [
        {
          "output_type": "execute_result",
          "data": {
            "text/plain": [
              "    SERIAL  DENSITY  OWNERSHP  OWNERSHPD  COSTELEC  COSTGAS  COSTWATR  \\\n",
              "0  1371772    920.0         1         13      9990     9993       360   \n",
              "1  1371773   3640.9         2         22      1080     9993      1800   \n",
              "2  1371773   3640.9         2         22      1080     9993      1800   \n",
              "3  1371774     22.5         1         13       600     9993      9993   \n",
              "4  1371775   3710.4         2         22      3600     9993      9997   \n",
              "\n",
              "   COSTFUEL  HHINCOME   VALUEH  ...  NFAMS  NCOUPLES  PERNUM  PERWT  AGE  \\\n",
              "0      9993     75000   700000  ...      1         0       1     14   52   \n",
              "1      9993     13600  9999999  ...      2         0       1     83   22   \n",
              "2      9993     13600  9999999  ...      2         0       2    106   22   \n",
              "3      9993      7000   800000  ...      1         0       1     33   62   \n",
              "4      9993     50500  9999999  ...      1         0       1    297   50   \n",
              "\n",
              "   MARST  BIRTHYR  EDUC  EDUCD  INCTOT  \n",
              "0      6     1969     7     71   75000  \n",
              "1      6     1999    10    101    5600  \n",
              "2      6     1999     7     71    8000  \n",
              "3      4     1959     6     63    7000  \n",
              "4      3     1971     7     71   16000  \n",
              "\n",
              "[5 rows x 24 columns]"
            ],
            "text/html": [
              "\n",
              "  <div id=\"df-9f308184-f809-48c3-803a-f5997a369f41\" class=\"colab-df-container\">\n",
              "    <div>\n",
              "<style scoped>\n",
              "    .dataframe tbody tr th:only-of-type {\n",
              "        vertical-align: middle;\n",
              "    }\n",
              "\n",
              "    .dataframe tbody tr th {\n",
              "        vertical-align: top;\n",
              "    }\n",
              "\n",
              "    .dataframe thead th {\n",
              "        text-align: right;\n",
              "    }\n",
              "</style>\n",
              "<table border=\"1\" class=\"dataframe\">\n",
              "  <thead>\n",
              "    <tr style=\"text-align: right;\">\n",
              "      <th></th>\n",
              "      <th>SERIAL</th>\n",
              "      <th>DENSITY</th>\n",
              "      <th>OWNERSHP</th>\n",
              "      <th>OWNERSHPD</th>\n",
              "      <th>COSTELEC</th>\n",
              "      <th>COSTGAS</th>\n",
              "      <th>COSTWATR</th>\n",
              "      <th>COSTFUEL</th>\n",
              "      <th>HHINCOME</th>\n",
              "      <th>VALUEH</th>\n",
              "      <th>...</th>\n",
              "      <th>NFAMS</th>\n",
              "      <th>NCOUPLES</th>\n",
              "      <th>PERNUM</th>\n",
              "      <th>PERWT</th>\n",
              "      <th>AGE</th>\n",
              "      <th>MARST</th>\n",
              "      <th>BIRTHYR</th>\n",
              "      <th>EDUC</th>\n",
              "      <th>EDUCD</th>\n",
              "      <th>INCTOT</th>\n",
              "    </tr>\n",
              "  </thead>\n",
              "  <tbody>\n",
              "    <tr>\n",
              "      <th>0</th>\n",
              "      <td>1371772</td>\n",
              "      <td>920.0</td>\n",
              "      <td>1</td>\n",
              "      <td>13</td>\n",
              "      <td>9990</td>\n",
              "      <td>9993</td>\n",
              "      <td>360</td>\n",
              "      <td>9993</td>\n",
              "      <td>75000</td>\n",
              "      <td>700000</td>\n",
              "      <td>...</td>\n",
              "      <td>1</td>\n",
              "      <td>0</td>\n",
              "      <td>1</td>\n",
              "      <td>14</td>\n",
              "      <td>52</td>\n",
              "      <td>6</td>\n",
              "      <td>1969</td>\n",
              "      <td>7</td>\n",
              "      <td>71</td>\n",
              "      <td>75000</td>\n",
              "    </tr>\n",
              "    <tr>\n",
              "      <th>1</th>\n",
              "      <td>1371773</td>\n",
              "      <td>3640.9</td>\n",
              "      <td>2</td>\n",
              "      <td>22</td>\n",
              "      <td>1080</td>\n",
              "      <td>9993</td>\n",
              "      <td>1800</td>\n",
              "      <td>9993</td>\n",
              "      <td>13600</td>\n",
              "      <td>9999999</td>\n",
              "      <td>...</td>\n",
              "      <td>2</td>\n",
              "      <td>0</td>\n",
              "      <td>1</td>\n",
              "      <td>83</td>\n",
              "      <td>22</td>\n",
              "      <td>6</td>\n",
              "      <td>1999</td>\n",
              "      <td>10</td>\n",
              "      <td>101</td>\n",
              "      <td>5600</td>\n",
              "    </tr>\n",
              "    <tr>\n",
              "      <th>2</th>\n",
              "      <td>1371773</td>\n",
              "      <td>3640.9</td>\n",
              "      <td>2</td>\n",
              "      <td>22</td>\n",
              "      <td>1080</td>\n",
              "      <td>9993</td>\n",
              "      <td>1800</td>\n",
              "      <td>9993</td>\n",
              "      <td>13600</td>\n",
              "      <td>9999999</td>\n",
              "      <td>...</td>\n",
              "      <td>2</td>\n",
              "      <td>0</td>\n",
              "      <td>2</td>\n",
              "      <td>106</td>\n",
              "      <td>22</td>\n",
              "      <td>6</td>\n",
              "      <td>1999</td>\n",
              "      <td>7</td>\n",
              "      <td>71</td>\n",
              "      <td>8000</td>\n",
              "    </tr>\n",
              "    <tr>\n",
              "      <th>3</th>\n",
              "      <td>1371774</td>\n",
              "      <td>22.5</td>\n",
              "      <td>1</td>\n",
              "      <td>13</td>\n",
              "      <td>600</td>\n",
              "      <td>9993</td>\n",
              "      <td>9993</td>\n",
              "      <td>9993</td>\n",
              "      <td>7000</td>\n",
              "      <td>800000</td>\n",
              "      <td>...</td>\n",
              "      <td>1</td>\n",
              "      <td>0</td>\n",
              "      <td>1</td>\n",
              "      <td>33</td>\n",
              "      <td>62</td>\n",
              "      <td>4</td>\n",
              "      <td>1959</td>\n",
              "      <td>6</td>\n",
              "      <td>63</td>\n",
              "      <td>7000</td>\n",
              "    </tr>\n",
              "    <tr>\n",
              "      <th>4</th>\n",
              "      <td>1371775</td>\n",
              "      <td>3710.4</td>\n",
              "      <td>2</td>\n",
              "      <td>22</td>\n",
              "      <td>3600</td>\n",
              "      <td>9993</td>\n",
              "      <td>9997</td>\n",
              "      <td>9993</td>\n",
              "      <td>50500</td>\n",
              "      <td>9999999</td>\n",
              "      <td>...</td>\n",
              "      <td>1</td>\n",
              "      <td>0</td>\n",
              "      <td>1</td>\n",
              "      <td>297</td>\n",
              "      <td>50</td>\n",
              "      <td>3</td>\n",
              "      <td>1971</td>\n",
              "      <td>7</td>\n",
              "      <td>71</td>\n",
              "      <td>16000</td>\n",
              "    </tr>\n",
              "  </tbody>\n",
              "</table>\n",
              "<p>5 rows × 24 columns</p>\n",
              "</div>\n",
              "    <div class=\"colab-df-buttons\">\n",
              "\n",
              "  <div class=\"colab-df-container\">\n",
              "    <button class=\"colab-df-convert\" onclick=\"convertToInteractive('df-9f308184-f809-48c3-803a-f5997a369f41')\"\n",
              "            title=\"Convert this dataframe to an interactive table.\"\n",
              "            style=\"display:none;\">\n",
              "\n",
              "  <svg xmlns=\"http://www.w3.org/2000/svg\" height=\"24px\" viewBox=\"0 -960 960 960\">\n",
              "    <path d=\"M120-120v-720h720v720H120Zm60-500h600v-160H180v160Zm220 220h160v-160H400v160Zm0 220h160v-160H400v160ZM180-400h160v-160H180v160Zm440 0h160v-160H620v160ZM180-180h160v-160H180v160Zm440 0h160v-160H620v160Z\"/>\n",
              "  </svg>\n",
              "    </button>\n",
              "\n",
              "  <style>\n",
              "    .colab-df-container {\n",
              "      display:flex;\n",
              "      gap: 12px;\n",
              "    }\n",
              "\n",
              "    .colab-df-convert {\n",
              "      background-color: #E8F0FE;\n",
              "      border: none;\n",
              "      border-radius: 50%;\n",
              "      cursor: pointer;\n",
              "      display: none;\n",
              "      fill: #1967D2;\n",
              "      height: 32px;\n",
              "      padding: 0 0 0 0;\n",
              "      width: 32px;\n",
              "    }\n",
              "\n",
              "    .colab-df-convert:hover {\n",
              "      background-color: #E2EBFA;\n",
              "      box-shadow: 0px 1px 2px rgba(60, 64, 67, 0.3), 0px 1px 3px 1px rgba(60, 64, 67, 0.15);\n",
              "      fill: #174EA6;\n",
              "    }\n",
              "\n",
              "    .colab-df-buttons div {\n",
              "      margin-bottom: 4px;\n",
              "    }\n",
              "\n",
              "    [theme=dark] .colab-df-convert {\n",
              "      background-color: #3B4455;\n",
              "      fill: #D2E3FC;\n",
              "    }\n",
              "\n",
              "    [theme=dark] .colab-df-convert:hover {\n",
              "      background-color: #434B5C;\n",
              "      box-shadow: 0px 1px 3px 1px rgba(0, 0, 0, 0.15);\n",
              "      filter: drop-shadow(0px 1px 2px rgba(0, 0, 0, 0.3));\n",
              "      fill: #FFFFFF;\n",
              "    }\n",
              "  </style>\n",
              "\n",
              "    <script>\n",
              "      const buttonEl =\n",
              "        document.querySelector('#df-9f308184-f809-48c3-803a-f5997a369f41 button.colab-df-convert');\n",
              "      buttonEl.style.display =\n",
              "        google.colab.kernel.accessAllowed ? 'block' : 'none';\n",
              "\n",
              "      async function convertToInteractive(key) {\n",
              "        const element = document.querySelector('#df-9f308184-f809-48c3-803a-f5997a369f41');\n",
              "        const dataTable =\n",
              "          await google.colab.kernel.invokeFunction('convertToInteractive',\n",
              "                                                    [key], {});\n",
              "        if (!dataTable) return;\n",
              "\n",
              "        const docLinkHtml = 'Like what you see? Visit the ' +\n",
              "          '<a target=\"_blank\" href=https://colab.research.google.com/notebooks/data_table.ipynb>data table notebook</a>'\n",
              "          + ' to learn more about interactive tables.';\n",
              "        element.innerHTML = '';\n",
              "        dataTable['output_type'] = 'display_data';\n",
              "        await google.colab.output.renderOutput(dataTable, element);\n",
              "        const docLink = document.createElement('div');\n",
              "        docLink.innerHTML = docLinkHtml;\n",
              "        element.appendChild(docLink);\n",
              "      }\n",
              "    </script>\n",
              "  </div>\n",
              "\n",
              "\n",
              "<div id=\"df-7fe7d038-6f40-4902-addd-6be64628bfff\">\n",
              "  <button class=\"colab-df-quickchart\" onclick=\"quickchart('df-7fe7d038-6f40-4902-addd-6be64628bfff')\"\n",
              "            title=\"Suggest charts\"\n",
              "            style=\"display:none;\">\n",
              "\n",
              "<svg xmlns=\"http://www.w3.org/2000/svg\" height=\"24px\"viewBox=\"0 0 24 24\"\n",
              "     width=\"24px\">\n",
              "    <g>\n",
              "        <path d=\"M19 3H5c-1.1 0-2 .9-2 2v14c0 1.1.9 2 2 2h14c1.1 0 2-.9 2-2V5c0-1.1-.9-2-2-2zM9 17H7v-7h2v7zm4 0h-2V7h2v10zm4 0h-2v-4h2v4z\"/>\n",
              "    </g>\n",
              "</svg>\n",
              "  </button>\n",
              "\n",
              "<style>\n",
              "  .colab-df-quickchart {\n",
              "      --bg-color: #E8F0FE;\n",
              "      --fill-color: #1967D2;\n",
              "      --hover-bg-color: #E2EBFA;\n",
              "      --hover-fill-color: #174EA6;\n",
              "      --disabled-fill-color: #AAA;\n",
              "      --disabled-bg-color: #DDD;\n",
              "  }\n",
              "\n",
              "  [theme=dark] .colab-df-quickchart {\n",
              "      --bg-color: #3B4455;\n",
              "      --fill-color: #D2E3FC;\n",
              "      --hover-bg-color: #434B5C;\n",
              "      --hover-fill-color: #FFFFFF;\n",
              "      --disabled-bg-color: #3B4455;\n",
              "      --disabled-fill-color: #666;\n",
              "  }\n",
              "\n",
              "  .colab-df-quickchart {\n",
              "    background-color: var(--bg-color);\n",
              "    border: none;\n",
              "    border-radius: 50%;\n",
              "    cursor: pointer;\n",
              "    display: none;\n",
              "    fill: var(--fill-color);\n",
              "    height: 32px;\n",
              "    padding: 0;\n",
              "    width: 32px;\n",
              "  }\n",
              "\n",
              "  .colab-df-quickchart:hover {\n",
              "    background-color: var(--hover-bg-color);\n",
              "    box-shadow: 0 1px 2px rgba(60, 64, 67, 0.3), 0 1px 3px 1px rgba(60, 64, 67, 0.15);\n",
              "    fill: var(--button-hover-fill-color);\n",
              "  }\n",
              "\n",
              "  .colab-df-quickchart-complete:disabled,\n",
              "  .colab-df-quickchart-complete:disabled:hover {\n",
              "    background-color: var(--disabled-bg-color);\n",
              "    fill: var(--disabled-fill-color);\n",
              "    box-shadow: none;\n",
              "  }\n",
              "\n",
              "  .colab-df-spinner {\n",
              "    border: 2px solid var(--fill-color);\n",
              "    border-color: transparent;\n",
              "    border-bottom-color: var(--fill-color);\n",
              "    animation:\n",
              "      spin 1s steps(1) infinite;\n",
              "  }\n",
              "\n",
              "  @keyframes spin {\n",
              "    0% {\n",
              "      border-color: transparent;\n",
              "      border-bottom-color: var(--fill-color);\n",
              "      border-left-color: var(--fill-color);\n",
              "    }\n",
              "    20% {\n",
              "      border-color: transparent;\n",
              "      border-left-color: var(--fill-color);\n",
              "      border-top-color: var(--fill-color);\n",
              "    }\n",
              "    30% {\n",
              "      border-color: transparent;\n",
              "      border-left-color: var(--fill-color);\n",
              "      border-top-color: var(--fill-color);\n",
              "      border-right-color: var(--fill-color);\n",
              "    }\n",
              "    40% {\n",
              "      border-color: transparent;\n",
              "      border-right-color: var(--fill-color);\n",
              "      border-top-color: var(--fill-color);\n",
              "    }\n",
              "    60% {\n",
              "      border-color: transparent;\n",
              "      border-right-color: var(--fill-color);\n",
              "    }\n",
              "    80% {\n",
              "      border-color: transparent;\n",
              "      border-right-color: var(--fill-color);\n",
              "      border-bottom-color: var(--fill-color);\n",
              "    }\n",
              "    90% {\n",
              "      border-color: transparent;\n",
              "      border-bottom-color: var(--fill-color);\n",
              "    }\n",
              "  }\n",
              "</style>\n",
              "\n",
              "  <script>\n",
              "    async function quickchart(key) {\n",
              "      const quickchartButtonEl =\n",
              "        document.querySelector('#' + key + ' button');\n",
              "      quickchartButtonEl.disabled = true;  // To prevent multiple clicks.\n",
              "      quickchartButtonEl.classList.add('colab-df-spinner');\n",
              "      try {\n",
              "        const charts = await google.colab.kernel.invokeFunction(\n",
              "            'suggestCharts', [key], {});\n",
              "      } catch (error) {\n",
              "        console.error('Error during call to suggestCharts:', error);\n",
              "      }\n",
              "      quickchartButtonEl.classList.remove('colab-df-spinner');\n",
              "      quickchartButtonEl.classList.add('colab-df-quickchart-complete');\n",
              "    }\n",
              "    (() => {\n",
              "      let quickchartButtonEl =\n",
              "        document.querySelector('#df-7fe7d038-6f40-4902-addd-6be64628bfff button');\n",
              "      quickchartButtonEl.style.display =\n",
              "        google.colab.kernel.accessAllowed ? 'block' : 'none';\n",
              "    })();\n",
              "  </script>\n",
              "</div>\n",
              "\n",
              "    </div>\n",
              "  </div>\n"
            ],
            "application/vnd.google.colaboratory.intrinsic+json": {
              "type": "dataframe",
              "variable_name": "df"
            }
          },
          "metadata": {},
          "execution_count": 109
        }
      ]
    },
    {
      "cell_type": "code",
      "execution_count": 110,
      "metadata": {
        "colab": {
          "base_uri": "https://localhost:8080/",
          "height": 0
        },
        "id": "x4UR7XyWb5do",
        "outputId": "d833732a-9191-4782-dab0-fe0ecd411ea7"
      },
      "outputs": [
        {
          "output_type": "stream",
          "name": "stdout",
          "text": [
            "Number of duplicates based on SERIAL: 44586\n"
          ]
        }
      ],
      "source": [
        "# @title checking for duplicate values\n",
        "serial_duplicates = df.duplicated(subset=['SERIAL']).sum()\n",
        "print(f\"Number of duplicates based on SERIAL: {serial_duplicates}\")"
      ]
    },
    {
      "cell_type": "code",
      "execution_count": 111,
      "metadata": {
        "colab": {
          "base_uri": "https://localhost:8080/",
          "height": 0
        },
        "id": "yfvLBLU5b5jt",
        "outputId": "e9e10c7b-61bd-4d48-fd9c-2046fdca9ccd"
      },
      "outputs": [
        {
          "output_type": "execute_result",
          "data": {
            "text/plain": [
              "SERIAL       0\n",
              "DENSITY      0\n",
              "OWNERSHP     0\n",
              "OWNERSHPD    0\n",
              "COSTELEC     0\n",
              "COSTGAS      0\n",
              "COSTWATR     0\n",
              "COSTFUEL     0\n",
              "HHINCOME     0\n",
              "VALUEH       0\n",
              "ROOMS        0\n",
              "BUILTYR2     0\n",
              "BEDROOMS     0\n",
              "VEHICLES     0\n",
              "NFAMS        0\n",
              "NCOUPLES     0\n",
              "PERNUM       0\n",
              "PERWT        0\n",
              "AGE          0\n",
              "MARST        0\n",
              "BIRTHYR      0\n",
              "EDUC         0\n",
              "EDUCD        0\n",
              "INCTOT       0\n",
              "dtype: int64"
            ]
          },
          "metadata": {},
          "execution_count": 111
        }
      ],
      "source": [
        "# @title missing values\n",
        "df.isnull().sum()"
      ]
    },
    {
      "cell_type": "code",
      "execution_count": 112,
      "metadata": {
        "id": "1aP2GrTmb5uI"
      },
      "outputs": [],
      "source": [
        "# @title\n",
        "# ProfileReport(df)"
      ]
    },
    {
      "cell_type": "markdown",
      "source": [
        "We have more than 50% of the dataset with duplicates based on SERIAL column which is unique for each household. We have 0 null values in dataset which is a good sign, our dataset is clean!"
      ],
      "metadata": {
        "id": "-mlmA9PB14O6"
      }
    },
    {
      "cell_type": "markdown",
      "source": [
        "**PERWT** variable is used when we want to do person analysis and it is not directly related to predicting home ownership, so having it is not required.\n",
        "\n",
        "**BRTHYR** can be deleted as we have the AGE variable, this is repetitive.\n",
        "\n",
        "**PERNUM** is not relevant since we are taking the eldest member from each family. But we will encode it like 1 for PERNUM > 1 and 0 for PERNUM ==1\n",
        "\n",
        "**AGE**: We will take the maximum age from the rows as it is a good assumption that older individual in the household will be the owner or renter\n",
        "\n",
        "**EDUCD** : Will delete this column from the data set since it's correlated with the EDUC\n",
        "\n",
        "**INCTOT** : We will take mean for the INCTOT value\n",
        "\n",
        "**HHINCOME** : removing this as it's highly correlated to avg income"
      ],
      "metadata": {
        "id": "u7CP41VrE1Kw"
      }
    },
    {
      "cell_type": "code",
      "source": [
        "df['PERNUM'].value_counts()"
      ],
      "metadata": {
        "colab": {
          "base_uri": "https://localhost:8080/",
          "height": 0
        },
        "id": "UE6WVXW1bYbR",
        "outputId": "a3d4a2ee-3b97-457f-9210-ece8999588e1"
      },
      "execution_count": 113,
      "outputs": [
        {
          "output_type": "execute_result",
          "data": {
            "text/plain": [
              "PERNUM\n",
              "1     30802\n",
              "2     22732\n",
              "3     10921\n",
              "4      6339\n",
              "5      2670\n",
              "6      1099\n",
              "7       454\n",
              "8       196\n",
              "9        89\n",
              "10       48\n",
              "11       20\n",
              "12       10\n",
              "13        3\n",
              "14        3\n",
              "15        1\n",
              "16        1\n",
              "Name: count, dtype: int64"
            ]
          },
          "metadata": {},
          "execution_count": 113
        }
      ]
    },
    {
      "cell_type": "code",
      "source": [
        "df['PERNUM_CODED'] = df['PERNUM'].apply(lambda x: 0 if x == 1 else 1)\n",
        "df['PERNUM_CODED'].head()"
      ],
      "metadata": {
        "colab": {
          "base_uri": "https://localhost:8080/",
          "height": 0
        },
        "id": "TAp7BPbqars_",
        "outputId": "e02f5854-6918-4be8-c98f-5ac3d56740e4"
      },
      "execution_count": 114,
      "outputs": [
        {
          "output_type": "execute_result",
          "data": {
            "text/plain": [
              "0    0\n",
              "1    0\n",
              "2    1\n",
              "3    0\n",
              "4    0\n",
              "Name: PERNUM_CODED, dtype: int64"
            ]
          },
          "metadata": {},
          "execution_count": 114
        }
      ]
    },
    {
      "cell_type": "code",
      "source": [
        "df['PERNUM_CODED'].value_counts()"
      ],
      "metadata": {
        "colab": {
          "base_uri": "https://localhost:8080/",
          "height": 0
        },
        "id": "YEBXEnKEbZea",
        "outputId": "29556d0b-5015-475f-eb79-a0fd7e0e8d61"
      },
      "execution_count": 115,
      "outputs": [
        {
          "output_type": "execute_result",
          "data": {
            "text/plain": [
              "PERNUM_CODED\n",
              "1    44586\n",
              "0    30802\n",
              "Name: count, dtype: int64"
            ]
          },
          "metadata": {},
          "execution_count": 115
        }
      ]
    },
    {
      "cell_type": "code",
      "source": [
        "df['INCTOT'] = df.groupby('SERIAL')['INCTOT'].transform('mean')\n",
        "df.shape"
      ],
      "metadata": {
        "colab": {
          "base_uri": "https://localhost:8080/",
          "height": 0
        },
        "id": "n4Sc8MJZRNLc",
        "outputId": "ab67ec4a-abea-4e1c-b18a-6c7232c17f56"
      },
      "execution_count": 116,
      "outputs": [
        {
          "output_type": "execute_result",
          "data": {
            "text/plain": [
              "(75388, 25)"
            ]
          },
          "metadata": {},
          "execution_count": 116
        }
      ]
    },
    {
      "cell_type": "markdown",
      "source": [
        "Let's make the dataset unique by keeping rows with unique SERIAL and highest aged individual"
      ],
      "metadata": {
        "id": "qtbzLqmuUBui"
      }
    },
    {
      "cell_type": "code",
      "source": [
        "df_uni = df.sort_values(by=['SERIAL', 'AGE'], ascending=[True, False]).drop_duplicates(subset='SERIAL')\n",
        "df_uni.shape"
      ],
      "metadata": {
        "colab": {
          "base_uri": "https://localhost:8080/",
          "height": 0
        },
        "id": "_plcUwigQ_Z_",
        "outputId": "c65404cf-47e6-404b-a413-6cb930e7a69f"
      },
      "execution_count": 117,
      "outputs": [
        {
          "output_type": "execute_result",
          "data": {
            "text/plain": [
              "(30802, 25)"
            ]
          },
          "metadata": {},
          "execution_count": 117
        }
      ]
    },
    {
      "cell_type": "code",
      "source": [
        "df_uni.reset_index(inplace = True)"
      ],
      "metadata": {
        "id": "BZQaw9AWIjI_"
      },
      "execution_count": 118,
      "outputs": []
    },
    {
      "cell_type": "code",
      "source": [
        "df_uni.shape"
      ],
      "metadata": {
        "colab": {
          "base_uri": "https://localhost:8080/",
          "height": 0
        },
        "id": "Y3wweHYQNhYN",
        "outputId": "3fc9390d-80d2-45f1-97da-2d02871d19d8"
      },
      "execution_count": 119,
      "outputs": [
        {
          "output_type": "execute_result",
          "data": {
            "text/plain": [
              "(30802, 26)"
            ]
          },
          "metadata": {},
          "execution_count": 119
        }
      ]
    },
    {
      "cell_type": "code",
      "source": [
        "# @title Dropping columns that are not important\n",
        "df_uni = df_uni.drop(['PERWT', 'BIRTHYR','SERIAL', 'PERNUM', 'EDUCD', 'ROOMS', 'HHINCOME', 'VALUEH','OWNERSHPD','BUILTYR2'], axis=1)"
      ],
      "metadata": {
        "id": "tDZyMHPwP2zi"
      },
      "execution_count": 120,
      "outputs": []
    },
    {
      "cell_type": "code",
      "source": [
        "df_uni.shape"
      ],
      "metadata": {
        "colab": {
          "base_uri": "https://localhost:8080/",
          "height": 0
        },
        "id": "RYTAc6SlS57O",
        "outputId": "df937120-7995-4a75-fcac-8acbf362239b"
      },
      "execution_count": 121,
      "outputs": [
        {
          "output_type": "execute_result",
          "data": {
            "text/plain": [
              "(30802, 16)"
            ]
          },
          "metadata": {},
          "execution_count": 121
        }
      ]
    },
    {
      "cell_type": "code",
      "source": [
        "df_uni[df_uni['AGE'] == 18].shape, df_uni[df_uni['AGE'] < 18].shape"
      ],
      "metadata": {
        "colab": {
          "base_uri": "https://localhost:8080/",
          "height": 0
        },
        "id": "Fs1D8MXXU23G",
        "outputId": "118e7c73-4be0-415e-ab73-ea0af40361ef"
      },
      "execution_count": 122,
      "outputs": [
        {
          "output_type": "execute_result",
          "data": {
            "text/plain": [
              "((7, 16), (0, 16))"
            ]
          },
          "metadata": {},
          "execution_count": 122
        }
      ]
    },
    {
      "cell_type": "markdown",
      "source": [
        "Our data doesn't have anyone aged less than 18, because younger people are not likely to own or rent a house"
      ],
      "metadata": {
        "id": "lFnACo9gVYuX"
      }
    },
    {
      "cell_type": "markdown",
      "source": [
        "Let's make MARST a contunous variable"
      ],
      "metadata": {
        "id": "zxlXO0E-YDMf"
      }
    },
    {
      "cell_type": "code",
      "source": [
        "df_uni['MARST'].value_counts()"
      ],
      "metadata": {
        "colab": {
          "base_uri": "https://localhost:8080/",
          "height": 0
        },
        "id": "LzKxGaknP2Ei",
        "outputId": "e461924f-d47f-4060-8ce3-ec81e2a8810a"
      },
      "execution_count": 123,
      "outputs": [
        {
          "output_type": "execute_result",
          "data": {
            "text/plain": [
              "MARST\n",
              "1    15780\n",
              "6     5500\n",
              "4     5429\n",
              "5     2932\n",
              "2      645\n",
              "3      516\n",
              "Name: count, dtype: int64"
            ]
          },
          "metadata": {},
          "execution_count": 123
        }
      ]
    },
    {
      "cell_type": "code",
      "source": [
        "df_uni ['MARST'] = df_uni['MARST'].apply(lambda x: 0 if x == 6 else 1)"
      ],
      "metadata": {
        "id": "IQ-rkhNuQ1u7"
      },
      "execution_count": 124,
      "outputs": []
    },
    {
      "cell_type": "markdown",
      "source": [
        "We can drop the original column now"
      ],
      "metadata": {
        "id": "4Qx3wDaAY56O"
      }
    },
    {
      "cell_type": "code",
      "source": [
        "# df_uni = df_uni.drop(['MARST'], axis=1)\n",
        "# df_uni.shape"
      ],
      "metadata": {
        "id": "IVqCnVW2Ym8m"
      },
      "execution_count": 125,
      "outputs": []
    },
    {
      "cell_type": "code",
      "execution_count": 126,
      "metadata": {
        "id": "ah9YLMY6b5zs",
        "colab": {
          "base_uri": "https://localhost:8080/",
          "height": 0
        },
        "outputId": "45edeeeb-75aa-4a66-f34b-494b97209267"
      },
      "outputs": [
        {
          "output_type": "execute_result",
          "data": {
            "text/plain": [
              "COSTWATR\n",
              "9993    4533\n",
              "9997    4078\n",
              "1200    1825\n",
              "1500     903\n",
              "1000     871\n",
              "        ... \n",
              "620       20\n",
              "690       19\n",
              "3800      15\n",
              "3900       9\n",
              "3700       9\n",
              "Name: count, Length: 133, dtype: int64"
            ]
          },
          "metadata": {},
          "execution_count": 126
        }
      ],
      "source": [
        "# @title Analysing COST columns\n",
        "df_uni['COSTWATR'].value_counts()"
      ]
    },
    {
      "cell_type": "code",
      "execution_count": 127,
      "metadata": {
        "id": "0BbR8izob52a",
        "colab": {
          "base_uri": "https://localhost:8080/",
          "height": 0
        },
        "outputId": "ce79b0de-f058-4c10-cba5-383e218e0c18"
      },
      "outputs": [
        {
          "output_type": "execute_result",
          "data": {
            "text/plain": [
              "COSTGAS\n",
              "9993    15455\n",
              "9992     3405\n",
              "600      1209\n",
              "360      1151\n",
              "1200     1089\n",
              "240       973\n",
              "480       946\n",
              "960       790\n",
              "720       697\n",
              "840       572\n",
              "9997      519\n",
              "120       472\n",
              "1080      451\n",
              "1800      431\n",
              "2400      337\n",
              "1440      315\n",
              "1560      306\n",
              "1320      262\n",
              "7200      193\n",
              "48        185\n",
              "1680      167\n",
              "3600      117\n",
              "2160      112\n",
              "1920      111\n",
              "3000      111\n",
              "2040      102\n",
              "2280       54\n",
              "2760       50\n",
              "2640       40\n",
              "2520       38\n",
              "4200       34\n",
              "2880       26\n",
              "3360       19\n",
              "3240       17\n",
              "3480       14\n",
              "3120       11\n",
              "3720        7\n",
              "4080        5\n",
              "3840        5\n",
              "3960        4\n",
              "Name: count, dtype: int64"
            ]
          },
          "metadata": {},
          "execution_count": 127
        }
      ],
      "source": [
        "# @title\n",
        "df_uni['COSTGAS'].value_counts()"
      ]
    },
    {
      "cell_type": "code",
      "source": [
        "df_uni['COSTFUEL'].value_counts()"
      ],
      "metadata": {
        "colab": {
          "base_uri": "https://localhost:8080/",
          "height": 0
        },
        "id": "ktpsg_CSdx_B",
        "outputId": "b1bbd833-6268-4bca-bf14-f0139d2e91c7"
      },
      "execution_count": 128,
      "outputs": [
        {
          "output_type": "execute_result",
          "data": {
            "text/plain": [
              "COSTFUEL\n",
              "9993    27860\n",
              "500       218\n",
              "200       196\n",
              "300       188\n",
              "400       173\n",
              "        ...  \n",
              "290         1\n",
              "740         1\n",
              "410         1\n",
              "270         1\n",
              "670         1\n",
              "Name: count, Length: 109, dtype: int64"
            ]
          },
          "metadata": {},
          "execution_count": 128
        }
      ]
    },
    {
      "cell_type": "code",
      "execution_count": 129,
      "metadata": {
        "id": "f96zJfxGb55G",
        "colab": {
          "base_uri": "https://localhost:8080/",
          "height": 0
        },
        "outputId": "48046044-e3c6-4d65-b8f4-c755c3b389c1"
      },
      "outputs": [
        {
          "output_type": "execute_result",
          "data": {
            "text/plain": [
              "COSTELEC\n",
              "1200    2603\n",
              "960     1938\n",
              "1800    1906\n",
              "2400    1737\n",
              "600     1653\n",
              "720     1579\n",
              "1440    1493\n",
              "840     1480\n",
              "1080    1433\n",
              "1560    1312\n",
              "480     1133\n",
              "1320    1046\n",
              "1680     972\n",
              "2160     889\n",
              "9997     845\n",
              "360      797\n",
              "3000     745\n",
              "1920     742\n",
              "3600     725\n",
              "2040     697\n",
              "2280     536\n",
              "9993     412\n",
              "2760     403\n",
              "2640     382\n",
              "240      356\n",
              "2520     304\n",
              "2880     258\n",
              "4200     243\n",
              "4800     241\n",
              "3360     220\n",
              "9990     208\n",
              "3120     172\n",
              "3240     167\n",
              "3480     130\n",
              "6000     120\n",
              "3960     112\n",
              "120       93\n",
              "3840      84\n",
              "5400      77\n",
              "3720      69\n",
              "4080      68\n",
              "4560      60\n",
              "4440      47\n",
              "48        45\n",
              "4320      41\n",
              "4680      33\n",
              "5040      28\n",
              "5280      21\n",
              "5160      21\n",
              "6600      21\n",
              "5640      19\n",
              "5760      17\n",
              "4920      16\n",
              "5520      14\n",
              "6480       9\n",
              "5880       9\n",
              "6120       9\n",
              "6240       7\n",
              "6360       5\n",
              "Name: count, dtype: int64"
            ]
          },
          "metadata": {},
          "execution_count": 129
        }
      ],
      "source": [
        "# @title\n",
        "df_uni['COSTELEC'].value_counts()"
      ]
    },
    {
      "cell_type": "markdown",
      "source": [
        "All columns have values like 9993,9992,9997 that has high value count, except for COSTELEC where with low value counts for these numbers.  But it looks like these variables mean that the data is either missing or not correct, since the values are gonna affect the model, we'll recode these values to 0\n"
      ],
      "metadata": {
        "id": "ylNWFLqfd8Rg"
      }
    },
    {
      "cell_type": "code",
      "execution_count": 130,
      "metadata": {
        "id": "EQz9o0Npb576"
      },
      "outputs": [],
      "source": [
        "# @title Transforming COST columns\n",
        "\n",
        "df_uni['COSTWATR'] = df_uni['COSTWATR'].apply(lambda x: 0 if x > 9992 else x)\n",
        "df_uni['COSTELEC'] = df_uni['COSTELEC'].apply(lambda x: 0 if x > 9992 else x)\n",
        "df_uni['COSTGAS'] = df_uni['COSTGAS'].apply(lambda x: 0 if x > 9992 else x)\n",
        "df_uni['COSTFUEL'] = df_uni['COSTFUEL'].apply(lambda x: 0 if x > 9992 else x)"
      ]
    },
    {
      "cell_type": "code",
      "source": [
        "df_uni.shape, df_uni.dtypes\n",
        "# df_uni['OWNERSHP'].value_counts()"
      ],
      "metadata": {
        "colab": {
          "base_uri": "https://localhost:8080/",
          "height": 0
        },
        "id": "IGt9azFVfDuZ",
        "outputId": "88173631-0c29-4528-9a00-f7af0670e019"
      },
      "execution_count": 131,
      "outputs": [
        {
          "output_type": "execute_result",
          "data": {
            "text/plain": [
              "((30802, 16),\n",
              " index             int64\n",
              " DENSITY         float64\n",
              " OWNERSHP          int64\n",
              " COSTELEC          int64\n",
              " COSTGAS           int64\n",
              " COSTWATR          int64\n",
              " COSTFUEL          int64\n",
              " BEDROOMS          int64\n",
              " VEHICLES          int64\n",
              " NFAMS             int64\n",
              " NCOUPLES          int64\n",
              " AGE               int64\n",
              " MARST             int64\n",
              " EDUC              int64\n",
              " INCTOT          float64\n",
              " PERNUM_CODED      int64\n",
              " dtype: object)"
            ]
          },
          "metadata": {},
          "execution_count": 131
        }
      ]
    },
    {
      "cell_type": "code",
      "source": [
        "# df_uni = pd.get_dummies(df_uni, columns=['EDUC'], prefix='EDUC', dtype=int)\n",
        "# df_uni.shape"
      ],
      "metadata": {
        "id": "QTfJPVXc7dMs"
      },
      "execution_count": 132,
      "outputs": []
    },
    {
      "cell_type": "code",
      "source": [
        "df['EDUC'].value_counts()"
      ],
      "metadata": {
        "colab": {
          "base_uri": "https://localhost:8080/",
          "height": 0
        },
        "id": "E3YlTMGqPBHv",
        "outputId": "daf92636-adfb-4fb2-9048-385553c6176c"
      },
      "execution_count": 133,
      "outputs": [
        {
          "output_type": "execute_result",
          "data": {
            "text/plain": [
              "EDUC\n",
              "6     18937\n",
              "10    14272\n",
              "11     8932\n",
              "7      8616\n",
              "8      6103\n",
              "1      5618\n",
              "0      4622\n",
              "2      4319\n",
              "5      1463\n",
              "4      1259\n",
              "3      1247\n",
              "Name: count, dtype: int64"
            ]
          },
          "metadata": {},
          "execution_count": 133
        }
      ]
    },
    {
      "cell_type": "code",
      "source": [
        "def categorize_educ(x):\n",
        "    if x == 0 or x == 99:\n",
        "        return 0\n",
        "    elif x > 0 and x <= 6:\n",
        "        return 1\n",
        "    elif x > 6 and x <= 11:\n",
        "        return 2\n",
        "    else:\n",
        "        return 0\n",
        "# Apply the categorize_educ function to create the EDUC category column\n",
        "df['EDUC'] = df_uni['EDUC'].apply(categorize_educ)\n",
        "\n",
        "# Check the value counts of the EDUC category column\n",
        "print(df['EDUC'].value_counts())\n"
      ],
      "metadata": {
        "colab": {
          "base_uri": "https://localhost:8080/",
          "height": 0
        },
        "id": "cDNGYkvLOeMI",
        "outputId": "bd4e7f87-35f6-424d-efb6-ead217228c16"
      },
      "execution_count": 134,
      "outputs": [
        {
          "output_type": "stream",
          "name": "stdout",
          "text": [
            "EDUC\n",
            "2.0    20347\n",
            "1.0    10007\n",
            "0.0      448\n",
            "Name: count, dtype: int64\n"
          ]
        }
      ]
    },
    {
      "cell_type": "code",
      "source": [
        "# df_uni['BUILTYR2'].value_counts()"
      ],
      "metadata": {
        "id": "yumWMskZ-R6x"
      },
      "execution_count": 135,
      "outputs": []
    },
    {
      "cell_type": "code",
      "source": [
        "df_uni.head()"
      ],
      "metadata": {
        "colab": {
          "base_uri": "https://localhost:8080/",
          "height": 206
        },
        "id": "rTCo6Nmd-BLE",
        "outputId": "d969a69b-0212-4302-c3b2-ff39e4e76d70"
      },
      "execution_count": 136,
      "outputs": [
        {
          "output_type": "execute_result",
          "data": {
            "text/plain": [
              "   index  DENSITY  OWNERSHP  COSTELEC  COSTGAS  COSTWATR  COSTFUEL  BEDROOMS  \\\n",
              "0      0    920.0         1      9990        0       360         0         4   \n",
              "1      1   3640.9         2      1080        0      1800         0         4   \n",
              "2      3     22.5         1       600        0         0         0         4   \n",
              "3      4   3710.4         2      3600        0         0         0         3   \n",
              "4      7    448.2         1      1560     3000         0         0         4   \n",
              "\n",
              "   VEHICLES  NFAMS  NCOUPLES  AGE  MARST  EDUC        INCTOT  PERNUM_CODED  \n",
              "0         2      1         0   52      0     7  75000.000000             0  \n",
              "1         2      2         0   22      0    10   6800.000000             0  \n",
              "2         2      1         0   62      1     6   7000.000000             0  \n",
              "3         2      1         0   50      1     7  25250.000000             0  \n",
              "4         2      1         1   93      1    10  51766.666667             1  "
            ],
            "text/html": [
              "\n",
              "  <div id=\"df-6266d29d-833b-4c92-9032-284c29590d98\" class=\"colab-df-container\">\n",
              "    <div>\n",
              "<style scoped>\n",
              "    .dataframe tbody tr th:only-of-type {\n",
              "        vertical-align: middle;\n",
              "    }\n",
              "\n",
              "    .dataframe tbody tr th {\n",
              "        vertical-align: top;\n",
              "    }\n",
              "\n",
              "    .dataframe thead th {\n",
              "        text-align: right;\n",
              "    }\n",
              "</style>\n",
              "<table border=\"1\" class=\"dataframe\">\n",
              "  <thead>\n",
              "    <tr style=\"text-align: right;\">\n",
              "      <th></th>\n",
              "      <th>index</th>\n",
              "      <th>DENSITY</th>\n",
              "      <th>OWNERSHP</th>\n",
              "      <th>COSTELEC</th>\n",
              "      <th>COSTGAS</th>\n",
              "      <th>COSTWATR</th>\n",
              "      <th>COSTFUEL</th>\n",
              "      <th>BEDROOMS</th>\n",
              "      <th>VEHICLES</th>\n",
              "      <th>NFAMS</th>\n",
              "      <th>NCOUPLES</th>\n",
              "      <th>AGE</th>\n",
              "      <th>MARST</th>\n",
              "      <th>EDUC</th>\n",
              "      <th>INCTOT</th>\n",
              "      <th>PERNUM_CODED</th>\n",
              "    </tr>\n",
              "  </thead>\n",
              "  <tbody>\n",
              "    <tr>\n",
              "      <th>0</th>\n",
              "      <td>0</td>\n",
              "      <td>920.0</td>\n",
              "      <td>1</td>\n",
              "      <td>9990</td>\n",
              "      <td>0</td>\n",
              "      <td>360</td>\n",
              "      <td>0</td>\n",
              "      <td>4</td>\n",
              "      <td>2</td>\n",
              "      <td>1</td>\n",
              "      <td>0</td>\n",
              "      <td>52</td>\n",
              "      <td>0</td>\n",
              "      <td>7</td>\n",
              "      <td>75000.000000</td>\n",
              "      <td>0</td>\n",
              "    </tr>\n",
              "    <tr>\n",
              "      <th>1</th>\n",
              "      <td>1</td>\n",
              "      <td>3640.9</td>\n",
              "      <td>2</td>\n",
              "      <td>1080</td>\n",
              "      <td>0</td>\n",
              "      <td>1800</td>\n",
              "      <td>0</td>\n",
              "      <td>4</td>\n",
              "      <td>2</td>\n",
              "      <td>2</td>\n",
              "      <td>0</td>\n",
              "      <td>22</td>\n",
              "      <td>0</td>\n",
              "      <td>10</td>\n",
              "      <td>6800.000000</td>\n",
              "      <td>0</td>\n",
              "    </tr>\n",
              "    <tr>\n",
              "      <th>2</th>\n",
              "      <td>3</td>\n",
              "      <td>22.5</td>\n",
              "      <td>1</td>\n",
              "      <td>600</td>\n",
              "      <td>0</td>\n",
              "      <td>0</td>\n",
              "      <td>0</td>\n",
              "      <td>4</td>\n",
              "      <td>2</td>\n",
              "      <td>1</td>\n",
              "      <td>0</td>\n",
              "      <td>62</td>\n",
              "      <td>1</td>\n",
              "      <td>6</td>\n",
              "      <td>7000.000000</td>\n",
              "      <td>0</td>\n",
              "    </tr>\n",
              "    <tr>\n",
              "      <th>3</th>\n",
              "      <td>4</td>\n",
              "      <td>3710.4</td>\n",
              "      <td>2</td>\n",
              "      <td>3600</td>\n",
              "      <td>0</td>\n",
              "      <td>0</td>\n",
              "      <td>0</td>\n",
              "      <td>3</td>\n",
              "      <td>2</td>\n",
              "      <td>1</td>\n",
              "      <td>0</td>\n",
              "      <td>50</td>\n",
              "      <td>1</td>\n",
              "      <td>7</td>\n",
              "      <td>25250.000000</td>\n",
              "      <td>0</td>\n",
              "    </tr>\n",
              "    <tr>\n",
              "      <th>4</th>\n",
              "      <td>7</td>\n",
              "      <td>448.2</td>\n",
              "      <td>1</td>\n",
              "      <td>1560</td>\n",
              "      <td>3000</td>\n",
              "      <td>0</td>\n",
              "      <td>0</td>\n",
              "      <td>4</td>\n",
              "      <td>2</td>\n",
              "      <td>1</td>\n",
              "      <td>1</td>\n",
              "      <td>93</td>\n",
              "      <td>1</td>\n",
              "      <td>10</td>\n",
              "      <td>51766.666667</td>\n",
              "      <td>1</td>\n",
              "    </tr>\n",
              "  </tbody>\n",
              "</table>\n",
              "</div>\n",
              "    <div class=\"colab-df-buttons\">\n",
              "\n",
              "  <div class=\"colab-df-container\">\n",
              "    <button class=\"colab-df-convert\" onclick=\"convertToInteractive('df-6266d29d-833b-4c92-9032-284c29590d98')\"\n",
              "            title=\"Convert this dataframe to an interactive table.\"\n",
              "            style=\"display:none;\">\n",
              "\n",
              "  <svg xmlns=\"http://www.w3.org/2000/svg\" height=\"24px\" viewBox=\"0 -960 960 960\">\n",
              "    <path d=\"M120-120v-720h720v720H120Zm60-500h600v-160H180v160Zm220 220h160v-160H400v160Zm0 220h160v-160H400v160ZM180-400h160v-160H180v160Zm440 0h160v-160H620v160ZM180-180h160v-160H180v160Zm440 0h160v-160H620v160Z\"/>\n",
              "  </svg>\n",
              "    </button>\n",
              "\n",
              "  <style>\n",
              "    .colab-df-container {\n",
              "      display:flex;\n",
              "      gap: 12px;\n",
              "    }\n",
              "\n",
              "    .colab-df-convert {\n",
              "      background-color: #E8F0FE;\n",
              "      border: none;\n",
              "      border-radius: 50%;\n",
              "      cursor: pointer;\n",
              "      display: none;\n",
              "      fill: #1967D2;\n",
              "      height: 32px;\n",
              "      padding: 0 0 0 0;\n",
              "      width: 32px;\n",
              "    }\n",
              "\n",
              "    .colab-df-convert:hover {\n",
              "      background-color: #E2EBFA;\n",
              "      box-shadow: 0px 1px 2px rgba(60, 64, 67, 0.3), 0px 1px 3px 1px rgba(60, 64, 67, 0.15);\n",
              "      fill: #174EA6;\n",
              "    }\n",
              "\n",
              "    .colab-df-buttons div {\n",
              "      margin-bottom: 4px;\n",
              "    }\n",
              "\n",
              "    [theme=dark] .colab-df-convert {\n",
              "      background-color: #3B4455;\n",
              "      fill: #D2E3FC;\n",
              "    }\n",
              "\n",
              "    [theme=dark] .colab-df-convert:hover {\n",
              "      background-color: #434B5C;\n",
              "      box-shadow: 0px 1px 3px 1px rgba(0, 0, 0, 0.15);\n",
              "      filter: drop-shadow(0px 1px 2px rgba(0, 0, 0, 0.3));\n",
              "      fill: #FFFFFF;\n",
              "    }\n",
              "  </style>\n",
              "\n",
              "    <script>\n",
              "      const buttonEl =\n",
              "        document.querySelector('#df-6266d29d-833b-4c92-9032-284c29590d98 button.colab-df-convert');\n",
              "      buttonEl.style.display =\n",
              "        google.colab.kernel.accessAllowed ? 'block' : 'none';\n",
              "\n",
              "      async function convertToInteractive(key) {\n",
              "        const element = document.querySelector('#df-6266d29d-833b-4c92-9032-284c29590d98');\n",
              "        const dataTable =\n",
              "          await google.colab.kernel.invokeFunction('convertToInteractive',\n",
              "                                                    [key], {});\n",
              "        if (!dataTable) return;\n",
              "\n",
              "        const docLinkHtml = 'Like what you see? Visit the ' +\n",
              "          '<a target=\"_blank\" href=https://colab.research.google.com/notebooks/data_table.ipynb>data table notebook</a>'\n",
              "          + ' to learn more about interactive tables.';\n",
              "        element.innerHTML = '';\n",
              "        dataTable['output_type'] = 'display_data';\n",
              "        await google.colab.output.renderOutput(dataTable, element);\n",
              "        const docLink = document.createElement('div');\n",
              "        docLink.innerHTML = docLinkHtml;\n",
              "        element.appendChild(docLink);\n",
              "      }\n",
              "    </script>\n",
              "  </div>\n",
              "\n",
              "\n",
              "<div id=\"df-1f5d3fff-133c-4bed-909a-628efc646864\">\n",
              "  <button class=\"colab-df-quickchart\" onclick=\"quickchart('df-1f5d3fff-133c-4bed-909a-628efc646864')\"\n",
              "            title=\"Suggest charts\"\n",
              "            style=\"display:none;\">\n",
              "\n",
              "<svg xmlns=\"http://www.w3.org/2000/svg\" height=\"24px\"viewBox=\"0 0 24 24\"\n",
              "     width=\"24px\">\n",
              "    <g>\n",
              "        <path d=\"M19 3H5c-1.1 0-2 .9-2 2v14c0 1.1.9 2 2 2h14c1.1 0 2-.9 2-2V5c0-1.1-.9-2-2-2zM9 17H7v-7h2v7zm4 0h-2V7h2v10zm4 0h-2v-4h2v4z\"/>\n",
              "    </g>\n",
              "</svg>\n",
              "  </button>\n",
              "\n",
              "<style>\n",
              "  .colab-df-quickchart {\n",
              "      --bg-color: #E8F0FE;\n",
              "      --fill-color: #1967D2;\n",
              "      --hover-bg-color: #E2EBFA;\n",
              "      --hover-fill-color: #174EA6;\n",
              "      --disabled-fill-color: #AAA;\n",
              "      --disabled-bg-color: #DDD;\n",
              "  }\n",
              "\n",
              "  [theme=dark] .colab-df-quickchart {\n",
              "      --bg-color: #3B4455;\n",
              "      --fill-color: #D2E3FC;\n",
              "      --hover-bg-color: #434B5C;\n",
              "      --hover-fill-color: #FFFFFF;\n",
              "      --disabled-bg-color: #3B4455;\n",
              "      --disabled-fill-color: #666;\n",
              "  }\n",
              "\n",
              "  .colab-df-quickchart {\n",
              "    background-color: var(--bg-color);\n",
              "    border: none;\n",
              "    border-radius: 50%;\n",
              "    cursor: pointer;\n",
              "    display: none;\n",
              "    fill: var(--fill-color);\n",
              "    height: 32px;\n",
              "    padding: 0;\n",
              "    width: 32px;\n",
              "  }\n",
              "\n",
              "  .colab-df-quickchart:hover {\n",
              "    background-color: var(--hover-bg-color);\n",
              "    box-shadow: 0 1px 2px rgba(60, 64, 67, 0.3), 0 1px 3px 1px rgba(60, 64, 67, 0.15);\n",
              "    fill: var(--button-hover-fill-color);\n",
              "  }\n",
              "\n",
              "  .colab-df-quickchart-complete:disabled,\n",
              "  .colab-df-quickchart-complete:disabled:hover {\n",
              "    background-color: var(--disabled-bg-color);\n",
              "    fill: var(--disabled-fill-color);\n",
              "    box-shadow: none;\n",
              "  }\n",
              "\n",
              "  .colab-df-spinner {\n",
              "    border: 2px solid var(--fill-color);\n",
              "    border-color: transparent;\n",
              "    border-bottom-color: var(--fill-color);\n",
              "    animation:\n",
              "      spin 1s steps(1) infinite;\n",
              "  }\n",
              "\n",
              "  @keyframes spin {\n",
              "    0% {\n",
              "      border-color: transparent;\n",
              "      border-bottom-color: var(--fill-color);\n",
              "      border-left-color: var(--fill-color);\n",
              "    }\n",
              "    20% {\n",
              "      border-color: transparent;\n",
              "      border-left-color: var(--fill-color);\n",
              "      border-top-color: var(--fill-color);\n",
              "    }\n",
              "    30% {\n",
              "      border-color: transparent;\n",
              "      border-left-color: var(--fill-color);\n",
              "      border-top-color: var(--fill-color);\n",
              "      border-right-color: var(--fill-color);\n",
              "    }\n",
              "    40% {\n",
              "      border-color: transparent;\n",
              "      border-right-color: var(--fill-color);\n",
              "      border-top-color: var(--fill-color);\n",
              "    }\n",
              "    60% {\n",
              "      border-color: transparent;\n",
              "      border-right-color: var(--fill-color);\n",
              "    }\n",
              "    80% {\n",
              "      border-color: transparent;\n",
              "      border-right-color: var(--fill-color);\n",
              "      border-bottom-color: var(--fill-color);\n",
              "    }\n",
              "    90% {\n",
              "      border-color: transparent;\n",
              "      border-bottom-color: var(--fill-color);\n",
              "    }\n",
              "  }\n",
              "</style>\n",
              "\n",
              "  <script>\n",
              "    async function quickchart(key) {\n",
              "      const quickchartButtonEl =\n",
              "        document.querySelector('#' + key + ' button');\n",
              "      quickchartButtonEl.disabled = true;  // To prevent multiple clicks.\n",
              "      quickchartButtonEl.classList.add('colab-df-spinner');\n",
              "      try {\n",
              "        const charts = await google.colab.kernel.invokeFunction(\n",
              "            'suggestCharts', [key], {});\n",
              "      } catch (error) {\n",
              "        console.error('Error during call to suggestCharts:', error);\n",
              "      }\n",
              "      quickchartButtonEl.classList.remove('colab-df-spinner');\n",
              "      quickchartButtonEl.classList.add('colab-df-quickchart-complete');\n",
              "    }\n",
              "    (() => {\n",
              "      let quickchartButtonEl =\n",
              "        document.querySelector('#df-1f5d3fff-133c-4bed-909a-628efc646864 button');\n",
              "      quickchartButtonEl.style.display =\n",
              "        google.colab.kernel.accessAllowed ? 'block' : 'none';\n",
              "    })();\n",
              "  </script>\n",
              "</div>\n",
              "\n",
              "    </div>\n",
              "  </div>\n"
            ],
            "application/vnd.google.colaboratory.intrinsic+json": {
              "type": "dataframe",
              "variable_name": "df_uni",
              "summary": "{\n  \"name\": \"df_uni\",\n  \"rows\": 30802,\n  \"fields\": [\n    {\n      \"column\": \"index\",\n      \"properties\": {\n        \"dtype\": \"number\",\n        \"std\": 21733,\n        \"min\": 0,\n        \"max\": 75386,\n        \"num_unique_values\": 30802,\n        \"samples\": [\n          30848,\n          43908,\n          56728\n        ],\n        \"semantic_type\": \"\",\n        \"description\": \"\"\n      }\n    },\n    {\n      \"column\": \"DENSITY\",\n      \"properties\": {\n        \"dtype\": \"number\",\n        \"std\": 2702.9333577941898,\n        \"min\": 22.5,\n        \"max\": 13284.6,\n        \"num_unique_values\": 56,\n        \"samples\": [\n          920.0,\n          155.4,\n          779.2\n        ],\n        \"semantic_type\": \"\",\n        \"description\": \"\"\n      }\n    },\n    {\n      \"column\": \"OWNERSHP\",\n      \"properties\": {\n        \"dtype\": \"number\",\n        \"std\": 0,\n        \"min\": 1,\n        \"max\": 2,\n        \"num_unique_values\": 2,\n        \"samples\": [\n          2,\n          1\n        ],\n        \"semantic_type\": \"\",\n        \"description\": \"\"\n      }\n    },\n    {\n      \"column\": \"COSTELEC\",\n      \"properties\": {\n        \"dtype\": \"number\",\n        \"std\": 1284,\n        \"min\": 0,\n        \"max\": 9990,\n        \"num_unique_values\": 58,\n        \"samples\": [\n          9990,\n          1800\n        ],\n        \"semantic_type\": \"\",\n        \"description\": \"\"\n      }\n    },\n    {\n      \"column\": \"COSTGAS\",\n      \"properties\": {\n        \"dtype\": \"number\",\n        \"std\": 3106,\n        \"min\": 0,\n        \"max\": 9992,\n        \"num_unique_values\": 39,\n        \"samples\": [\n          3480,\n          4080\n        ],\n        \"semantic_type\": \"\",\n        \"description\": \"\"\n      }\n    },\n    {\n      \"column\": \"COSTWATR\",\n      \"properties\": {\n        \"dtype\": \"number\",\n        \"std\": 840,\n        \"min\": 0,\n        \"max\": 5000,\n        \"num_unique_values\": 132,\n        \"samples\": [\n          700,\n          590\n        ],\n        \"semantic_type\": \"\",\n        \"description\": \"\"\n      }\n    },\n    {\n      \"column\": \"COSTFUEL\",\n      \"properties\": {\n        \"dtype\": \"number\",\n        \"std\": 290,\n        \"min\": 0,\n        \"max\": 3300,\n        \"num_unique_values\": 108,\n        \"samples\": [\n          590,\n          300\n        ],\n        \"semantic_type\": \"\",\n        \"description\": \"\"\n      }\n    },\n    {\n      \"column\": \"BEDROOMS\",\n      \"properties\": {\n        \"dtype\": \"number\",\n        \"std\": 1,\n        \"min\": 1,\n        \"max\": 8,\n        \"num_unique_values\": 7,\n        \"samples\": [\n          4,\n          3\n        ],\n        \"semantic_type\": \"\",\n        \"description\": \"\"\n      }\n    },\n    {\n      \"column\": \"VEHICLES\",\n      \"properties\": {\n        \"dtype\": \"number\",\n        \"std\": 1,\n        \"min\": 1,\n        \"max\": 9,\n        \"num_unique_values\": 7,\n        \"samples\": [\n          2,\n          3\n        ],\n        \"semantic_type\": \"\",\n        \"description\": \"\"\n      }\n    },\n    {\n      \"column\": \"NFAMS\",\n      \"properties\": {\n        \"dtype\": \"number\",\n        \"std\": 0,\n        \"min\": 1,\n        \"max\": 13,\n        \"num_unique_values\": 10,\n        \"samples\": [\n          13,\n          2\n        ],\n        \"semantic_type\": \"\",\n        \"description\": \"\"\n      }\n    },\n    {\n      \"column\": \"NCOUPLES\",\n      \"properties\": {\n        \"dtype\": \"number\",\n        \"std\": 0,\n        \"min\": 0,\n        \"max\": 3,\n        \"num_unique_values\": 4,\n        \"samples\": [\n          1,\n          3\n        ],\n        \"semantic_type\": \"\",\n        \"description\": \"\"\n      }\n    },\n    {\n      \"column\": \"AGE\",\n      \"properties\": {\n        \"dtype\": \"number\",\n        \"std\": 17,\n        \"min\": 18,\n        \"max\": 93,\n        \"num_unique_values\": 73,\n        \"samples\": [\n          93,\n          72\n        ],\n        \"semantic_type\": \"\",\n        \"description\": \"\"\n      }\n    },\n    {\n      \"column\": \"MARST\",\n      \"properties\": {\n        \"dtype\": \"number\",\n        \"std\": 0,\n        \"min\": 0,\n        \"max\": 1,\n        \"num_unique_values\": 2,\n        \"samples\": [\n          1,\n          0\n        ],\n        \"semantic_type\": \"\",\n        \"description\": \"\"\n      }\n    },\n    {\n      \"column\": \"EDUC\",\n      \"properties\": {\n        \"dtype\": \"number\",\n        \"std\": 2,\n        \"min\": 0,\n        \"max\": 11,\n        \"num_unique_values\": 11,\n        \"samples\": [\n          11,\n          7\n        ],\n        \"semantic_type\": \"\",\n        \"description\": \"\"\n      }\n    },\n    {\n      \"column\": \"INCTOT\",\n      \"properties\": {\n        \"dtype\": \"number\",\n        \"std\": 1896787.0148758353,\n        \"min\": -7100.0,\n        \"max\": 8576570.57142857,\n        \"num_unique_values\": 10353,\n        \"samples\": [\n          31140.0,\n          4039399.6\n        ],\n        \"semantic_type\": \"\",\n        \"description\": \"\"\n      }\n    },\n    {\n      \"column\": \"PERNUM_CODED\",\n      \"properties\": {\n        \"dtype\": \"number\",\n        \"std\": 0,\n        \"min\": 0,\n        \"max\": 1,\n        \"num_unique_values\": 2,\n        \"samples\": [\n          1,\n          0\n        ],\n        \"semantic_type\": \"\",\n        \"description\": \"\"\n      }\n    }\n  ]\n}"
            }
          },
          "metadata": {},
          "execution_count": 136
        }
      ]
    },
    {
      "cell_type": "code",
      "source": [
        "# @title Class imbalance, using stratify sampling\n",
        "class_distribution = df_uni['OWNERSHP'].value_counts(normalize=True)\n",
        "\n",
        "# Print the class distribution\n",
        "print(\"Class Distribution:\")\n",
        "print(class_distribution)"
      ],
      "metadata": {
        "colab": {
          "base_uri": "https://localhost:8080/",
          "height": 0
        },
        "id": "LMab6eyZp5w9",
        "outputId": "3e4c8c76-7bcb-465d-b367-38900a64016c"
      },
      "execution_count": 137,
      "outputs": [
        {
          "output_type": "stream",
          "name": "stdout",
          "text": [
            "Class Distribution:\n",
            "OWNERSHP\n",
            "1    0.707194\n",
            "2    0.292806\n",
            "Name: proportion, dtype: float64\n"
          ]
        }
      ]
    },
    {
      "cell_type": "code",
      "source": [
        "sampled_df = df_uni.sample(n=10000, random_state=42)\n",
        "sampled_df.shape"
      ],
      "metadata": {
        "colab": {
          "base_uri": "https://localhost:8080/",
          "height": 0
        },
        "id": "RacjyfzDo_RA",
        "outputId": "235ffe3f-8dc2-4790-9b1e-065a1cd201d9"
      },
      "execution_count": 138,
      "outputs": [
        {
          "output_type": "execute_result",
          "data": {
            "text/plain": [
              "(10000, 16)"
            ]
          },
          "metadata": {},
          "execution_count": 138
        }
      ]
    },
    {
      "cell_type": "code",
      "execution_count": 139,
      "metadata": {
        "id": "xO0C-zUKb5-v"
      },
      "outputs": [],
      "source": [
        "# @title Splitting dataset and scaling the data\n",
        "from sklearn.preprocessing import StandardScaler\n",
        "X = sampled_df.drop(['OWNERSHP'], axis=1)\n",
        "y = sampled_df['OWNERSHP']\n",
        "\n",
        "X_train, X_test, y_train, y_test = train_test_split(X, y, test_size=0.3, random_state=1, stratify=y)\n",
        "\n",
        "scaling = MinMaxScaler(feature_range=(-1,1)).fit(X_train)\n",
        "X_train = scaling.transform(X_train)\n",
        "X_test = scaling.transform(X_test)"
      ]
    },
    {
      "cell_type": "code",
      "source": [
        "grid_params = {'C': [0.001,  0.1, 1,  10, 100]}\n",
        "svcfit = SVC(kernel='linear',cache_size=1000,random_state = 1, max_iter = 1000)\n",
        "tune = GridSearchCV(svcfit, grid_params ,cv=5)\n",
        "tune.fit(X_train,y_train)\n",
        "tune.best_params_,(1 - tune.best_score_) # # best C and cv error rate"
      ],
      "metadata": {
        "colab": {
          "base_uri": "https://localhost:8080/",
          "height": 0
        },
        "id": "c36wK3Jb0caR",
        "outputId": "b3598607-57eb-4292-e7c5-5732a98cfb78"
      },
      "execution_count": 140,
      "outputs": [
        {
          "output_type": "execute_result",
          "data": {
            "text/plain": [
              "({'C': 1}, 0.29800000000000004)"
            ]
          },
          "metadata": {},
          "execution_count": 140
        }
      ]
    },
    {
      "cell_type": "markdown",
      "source": [
        "SVM is highly efficient but looks like the model is overfitting. Let's try Decision Tree Classififer and see if there's any column that's causing overfitting"
      ],
      "metadata": {
        "id": "296_9vO00n6Y"
      }
    },
    {
      "cell_type": "code",
      "execution_count": 141,
      "metadata": {
        "id": "ZYQ8bhE7b6I8",
        "colab": {
          "base_uri": "https://localhost:8080/",
          "height": 0
        },
        "outputId": "71e7fc4a-5196-4e90-c5a5-5e90ced25cd4"
      },
      "outputs": [
        {
          "output_type": "execute_result",
          "data": {
            "text/plain": [
              "0.809"
            ]
          },
          "metadata": {},
          "execution_count": 141
        }
      ],
      "source": [
        "# @title Decision Tree Classifier\n",
        "from sklearn.tree import DecisionTreeClassifier\n",
        "\n",
        "clf = DecisionTreeClassifier(criterion='entropy', max_depth=10)\n",
        "clf.fit(X_train, y_train)\n",
        "y_pred = clf.predict(X_test)\n",
        "accuracy_score(y_test, y_pred)"
      ]
    },
    {
      "cell_type": "code",
      "source": [
        "# @title feature importances\n",
        "importances = clf.feature_importances_\n",
        "indices = np.argsort(importances)[::-1]  # Sort feature importances in descending order\n",
        "print(\"Feature ranking:\")\n",
        "for f in range(X.shape[1]):\n",
        "    print(\"%d. Feature '%s' (%f)\" % (f + 1, X.columns[indices[f]], importances[indices[f]]))\n",
        "\n",
        "plt.figure(figsize=(10, 6))\n",
        "plt.title(\"Feature Importances\")\n",
        "plt.bar(range(X.shape[1]), importances[indices], align=\"center\")\n",
        "plt.xticks(range(X.shape[1]), X.columns[indices], rotation=90)\n",
        "plt.xlabel(\"Feature\")\n",
        "plt.ylabel(\"Importance\")\n",
        "plt.tight_layout()\n",
        "plt.show()"
      ],
      "metadata": {
        "colab": {
          "base_uri": "https://localhost:8080/",
          "height": 899
        },
        "id": "FM_6ph_j1LR7",
        "outputId": "327e52dd-be66-4874-82a8-bdd1b5ac4117"
      },
      "execution_count": 142,
      "outputs": [
        {
          "output_type": "stream",
          "name": "stdout",
          "text": [
            "Feature ranking:\n",
            "1. Feature 'BEDROOMS' (0.330914)\n",
            "2. Feature 'AGE' (0.156908)\n",
            "3. Feature 'COSTWATR' (0.099993)\n",
            "4. Feature 'INCTOT' (0.074295)\n",
            "5. Feature 'COSTELEC' (0.066339)\n",
            "6. Feature 'DENSITY' (0.064927)\n",
            "7. Feature 'index' (0.049052)\n",
            "8. Feature 'COSTGAS' (0.042025)\n",
            "9. Feature 'EDUC' (0.023538)\n",
            "10. Feature 'VEHICLES' (0.022211)\n",
            "11. Feature 'NFAMS' (0.020646)\n",
            "12. Feature 'COSTFUEL' (0.017108)\n",
            "13. Feature 'MARST' (0.016572)\n",
            "14. Feature 'NCOUPLES' (0.010700)\n",
            "15. Feature 'PERNUM_CODED' (0.004772)\n"
          ]
        },
        {
          "output_type": "display_data",
          "data": {
            "text/plain": [
              "<Figure size 1000x600 with 1 Axes>"
            ],
            "image/png": "[encoded data removed]"
          },
          "metadata": {}
        }
      ]
    },
    {
      "cell_type": "markdown",
      "source": [
        "VALUEH is the column that caused overfitting, let's not use it in our models."
      ],
      "metadata": {
        "id": "24YL8tSz1RAo"
      }
    },
    {
      "cell_type": "code",
      "execution_count": 143,
      "metadata": {
        "id": "m_bzuVW50X_x"
      },
      "outputs": [],
      "source": [
        "# @title Splitting dataset and scaling the data without VALUEH\n",
        "# df_uni = df_uni.drop(['VALUEH'], axis=1)\n",
        "\n",
        "from sklearn.preprocessing import StandardScaler\n",
        "X = sampled_df.drop(['OWNERSHP'], axis=1)\n",
        "y = sampled_df['OWNERSHP']\n",
        "\n",
        "X_train, X_test, y_train, y_test = train_test_split(X, y, test_size=0.3, random_state=1, stratify=y)\n",
        "\n",
        "scaling = MinMaxScaler(feature_range=(-1,1)).fit(X_train)\n",
        "X_train = scaling.transform(X_train)\n",
        "X_test = scaling.transform(X_test)"
      ]
    },
    {
      "cell_type": "code",
      "source": [
        "grid_params = {'C': [0.001,  0.1, 1,  10, 100]}\n",
        "svcfit = SVC(kernel='linear',cache_size=10000,random_state = 1, max_iter = 20000)\n",
        "tune = GridSearchCV(svcfit, grid_params ,cv=5)\n",
        "tune.fit(X_train,y_train)\n",
        "print('Best Parameters: ',tune.best_params_)\n",
        "print('Lowest cross-validation error rate: {:.2f}%'.format(1 - tune.best_score_))"
      ],
      "metadata": {
        "colab": {
          "base_uri": "https://localhost:8080/",
          "height": 0
        },
        "id": "resfFH8TomC1",
        "outputId": "51666702-4548-4ba6-b8d3-c93887adb5b4"
      },
      "execution_count": 144,
      "outputs": [
        {
          "output_type": "stream",
          "name": "stdout",
          "text": [
            "Best Parameters:  {'C': 10}\n",
            "Lowest cross-validation error rate: 0.16%\n"
          ]
        }
      ]
    },
    {
      "cell_type": "code",
      "source": [
        "best_svc = tune.best_estimator_\n",
        "\n",
        "# Get the coefficients from the best model\n",
        "coefficients = best_svc.coef_[0]\n",
        "\n",
        "# Rank the features by the absolute value of their coefficients\n",
        "feature_importance = np.abs(coefficients)\n",
        "\n",
        "# Get the indices of the features, sorted by importance\n",
        "sorted_indices = np.argsort(feature_importance)[::-1]\n",
        "\n",
        "# Print out the ranked features\n",
        "print(\"Feature ranking:\")\n",
        "for idx in sorted_indices:\n",
        "    print(f\"Feature {idx}, Coefficient: {coefficients[idx]}\")"
      ],
      "metadata": {
        "colab": {
          "base_uri": "https://localhost:8080/",
          "height": 0
        },
        "id": "z1JZ0nt9XKCE",
        "outputId": "c762f28a-26fb-4ee8-9b60-60301d040968"
      },
      "execution_count": 145,
      "outputs": [
        {
          "output_type": "stream",
          "name": "stdout",
          "text": [
            "Feature ranking:\n",
            "Feature 6, Coefficient: -2.4401393666857345\n",
            "Feature 8, Coefficient: 2.0009077892301086\n",
            "Feature 4, Coefficient: -1.0978772825282306\n",
            "Feature 10, Coefficient: -1.0410002718281355\n",
            "Feature 2, Coefficient: -0.8580817070340387\n",
            "Feature 5, Coefficient: -0.8271943675704705\n",
            "Feature 9, Coefficient: -0.5583389225579722\n",
            "Feature 12, Coefficient: -0.5482499402379695\n",
            "Feature 1, Coefficient: 0.3810677043161732\n",
            "Feature 13, Coefficient: 0.2736896558892461\n",
            "Feature 3, Coefficient: -0.17556460433500476\n",
            "Feature 7, Coefficient: 0.13570037140660318\n",
            "Feature 11, Coefficient: -0.08646238430658215\n",
            "Feature 0, Coefficient: 0.05084770255204507\n",
            "Feature 14, Coefficient: 0.016710572324523554\n"
          ]
        }
      ]
    },
    {
      "cell_type": "code",
      "source": [
        "y_pred = tune.predict(X_test)\n",
        "print(classification_report(y_test,y_pred))"
      ],
      "metadata": {
        "colab": {
          "base_uri": "https://localhost:8080/",
          "height": 0
        },
        "id": "3iQvLBhaxTWf",
        "outputId": "e044fbce-e70f-4231-de56-fd17d461a90b"
      },
      "execution_count": 146,
      "outputs": [
        {
          "output_type": "stream",
          "name": "stdout",
          "text": [
            "              precision    recall  f1-score   support\n",
            "\n",
            "           1       0.85      0.92      0.89      2119\n",
            "           2       0.77      0.62      0.69       881\n",
            "\n",
            "    accuracy                           0.83      3000\n",
            "   macro avg       0.81      0.77      0.79      3000\n",
            "weighted avg       0.83      0.83      0.83      3000\n",
            "\n"
          ]
        }
      ]
    },
    {
      "cell_type": "markdown",
      "source": [
        "**Top 5 features**\n",
        "\n",
        "BEDROOMS\t,  NFAMS, COSTWATR, AGE, COSTELEC"
      ],
      "metadata": {
        "id": "fXT21VryhXtF"
      }
    },
    {
      "cell_type": "code",
      "source": [
        "#sorting top features using permuration importance\n",
        "\n",
        "from sklearn.feature_selection import SelectKBest, f_classif\n",
        "from sklearn.inspection import permutation_importance\n",
        "\n",
        "k = 15\n",
        "\n",
        "selector = SelectKBest(f_classif, k=k)\n",
        "selector.fit(X_train, y_train)\n",
        "X_train_new = selector.transform(X_train)\n",
        "X_test_new = selector.transform(X_test)\n",
        "\n",
        "svc_linear = SVC(kernel='linear', C=0.1, cache_size=10000, random_state=1, max_iter=20000)\n",
        "svc_linear.fit(X_train, y_train)\n",
        "\n",
        "result = permutation_importance(svc_linear, X_test_new, y_test, n_repeats=5, random_state=1)\n",
        "importance_df = pd.DataFrame({'feature': X.columns[selector.get_support()], 'importance': result.importances_mean})\n",
        "importance_df = importance_df.sort_values(by='importance', ascending=False).reset_index(drop=True)\n",
        "importance_df"
      ],
      "metadata": {
        "colab": {
          "base_uri": "https://localhost:8080/",
          "height": 519
        },
        "id": "WqlcRMggzFBp",
        "outputId": "52492d04-84bb-4b6d-8494-3afcaf09f8b7"
      },
      "execution_count": 147,
      "outputs": [
        {
          "output_type": "execute_result",
          "data": {
            "text/plain": [
              "         feature  importance\n",
              "0       BEDROOMS    0.093133\n",
              "1            AGE    0.036867\n",
              "2       COSTWATR    0.009733\n",
              "3           EDUC    0.006467\n",
              "4        DENSITY    0.004800\n",
              "5       COSTELEC    0.004200\n",
              "6         INCTOT    0.002933\n",
              "7          NFAMS    0.001933\n",
              "8       COSTFUEL    0.001600\n",
              "9       VEHICLES    0.001200\n",
              "10      NCOUPLES    0.000533\n",
              "11       COSTGAS    0.000333\n",
              "12         index   -0.000600\n",
              "13  PERNUM_CODED   -0.000867\n",
              "14         MARST   -0.001400"
            ],
            "text/html": [
              "\n",
              "  <div id=\"df-ca366ce7-3090-4d55-8ad5-7d535f2bd4a3\" class=\"colab-df-container\">\n",
              "    <div>\n",
              "<style scoped>\n",
              "    .dataframe tbody tr th:only-of-type {\n",
              "        vertical-align: middle;\n",
              "    }\n",
              "\n",
              "    .dataframe tbody tr th {\n",
              "        vertical-align: top;\n",
              "    }\n",
              "\n",
              "    .dataframe thead th {\n",
              "        text-align: right;\n",
              "    }\n",
              "</style>\n",
              "<table border=\"1\" class=\"dataframe\">\n",
              "  <thead>\n",
              "    <tr style=\"text-align: right;\">\n",
              "      <th></th>\n",
              "      <th>feature</th>\n",
              "      <th>importance</th>\n",
              "    </tr>\n",
              "  </thead>\n",
              "  <tbody>\n",
              "    <tr>\n",
              "      <th>0</th>\n",
              "      <td>BEDROOMS</td>\n",
              "      <td>0.093133</td>\n",
              "    </tr>\n",
              "    <tr>\n",
              "      <th>1</th>\n",
              "      <td>AGE</td>\n",
              "      <td>0.036867</td>\n",
              "    </tr>\n",
              "    <tr>\n",
              "      <th>2</th>\n",
              "      <td>COSTWATR</td>\n",
              "      <td>0.009733</td>\n",
              "    </tr>\n",
              "    <tr>\n",
              "      <th>3</th>\n",
              "      <td>EDUC</td>\n",
              "      <td>0.006467</td>\n",
              "    </tr>\n",
              "    <tr>\n",
              "      <th>4</th>\n",
              "      <td>DENSITY</td>\n",
              "      <td>0.004800</td>\n",
              "    </tr>\n",
              "    <tr>\n",
              "      <th>5</th>\n",
              "      <td>COSTELEC</td>\n",
              "      <td>0.004200</td>\n",
              "    </tr>\n",
              "    <tr>\n",
              "      <th>6</th>\n",
              "      <td>INCTOT</td>\n",
              "      <td>0.002933</td>\n",
              "    </tr>\n",
              "    <tr>\n",
              "      <th>7</th>\n",
              "      <td>NFAMS</td>\n",
              "      <td>0.001933</td>\n",
              "    </tr>\n",
              "    <tr>\n",
              "      <th>8</th>\n",
              "      <td>COSTFUEL</td>\n",
              "      <td>0.001600</td>\n",
              "    </tr>\n",
              "    <tr>\n",
              "      <th>9</th>\n",
              "      <td>VEHICLES</td>\n",
              "      <td>0.001200</td>\n",
              "    </tr>\n",
              "    <tr>\n",
              "      <th>10</th>\n",
              "      <td>NCOUPLES</td>\n",
              "      <td>0.000533</td>\n",
              "    </tr>\n",
              "    <tr>\n",
              "      <th>11</th>\n",
              "      <td>COSTGAS</td>\n",
              "      <td>0.000333</td>\n",
              "    </tr>\n",
              "    <tr>\n",
              "      <th>12</th>\n",
              "      <td>index</td>\n",
              "      <td>-0.000600</td>\n",
              "    </tr>\n",
              "    <tr>\n",
              "      <th>13</th>\n",
              "      <td>PERNUM_CODED</td>\n",
              "      <td>-0.000867</td>\n",
              "    </tr>\n",
              "    <tr>\n",
              "      <th>14</th>\n",
              "      <td>MARST</td>\n",
              "      <td>-0.001400</td>\n",
              "    </tr>\n",
              "  </tbody>\n",
              "</table>\n",
              "</div>\n",
              "    <div class=\"colab-df-buttons\">\n",
              "\n",
              "  <div class=\"colab-df-container\">\n",
              "    <button class=\"colab-df-convert\" onclick=\"convertToInteractive('df-ca366ce7-3090-4d55-8ad5-7d535f2bd4a3')\"\n",
              "            title=\"Convert this dataframe to an interactive table.\"\n",
              "            style=\"display:none;\">\n",
              "\n",
              "  <svg xmlns=\"http://www.w3.org/2000/svg\" height=\"24px\" viewBox=\"0 -960 960 960\">\n",
              "    <path d=\"M120-120v-720h720v720H120Zm60-500h600v-160H180v160Zm220 220h160v-160H400v160Zm0 220h160v-160H400v160ZM180-400h160v-160H180v160Zm440 0h160v-160H620v160ZM180-180h160v-160H180v160Zm440 0h160v-160H620v160Z\"/>\n",
              "  </svg>\n",
              "    </button>\n",
              "\n",
              "  <style>\n",
              "    .colab-df-container {\n",
              "      display:flex;\n",
              "      gap: 12px;\n",
              "    }\n",
              "\n",
              "    .colab-df-convert {\n",
              "      background-color: #E8F0FE;\n",
              "      border: none;\n",
              "      border-radius: 50%;\n",
              "      cursor: pointer;\n",
              "      display: none;\n",
              "      fill: #1967D2;\n",
              "      height: 32px;\n",
              "      padding: 0 0 0 0;\n",
              "      width: 32px;\n",
              "    }\n",
              "\n",
              "    .colab-df-convert:hover {\n",
              "      background-color: #E2EBFA;\n",
              "      box-shadow: 0px 1px 2px rgba(60, 64, 67, 0.3), 0px 1px 3px 1px rgba(60, 64, 67, 0.15);\n",
              "      fill: #174EA6;\n",
              "    }\n",
              "\n",
              "    .colab-df-buttons div {\n",
              "      margin-bottom: 4px;\n",
              "    }\n",
              "\n",
              "    [theme=dark] .colab-df-convert {\n",
              "      background-color: #3B4455;\n",
              "      fill: #D2E3FC;\n",
              "    }\n",
              "\n",
              "    [theme=dark] .colab-df-convert:hover {\n",
              "      background-color: #434B5C;\n",
              "      box-shadow: 0px 1px 3px 1px rgba(0, 0, 0, 0.15);\n",
              "      filter: drop-shadow(0px 1px 2px rgba(0, 0, 0, 0.3));\n",
              "      fill: #FFFFFF;\n",
              "    }\n",
              "  </style>\n",
              "\n",
              "    <script>\n",
              "      const buttonEl =\n",
              "        document.querySelector('#df-ca366ce7-3090-4d55-8ad5-7d535f2bd4a3 button.colab-df-convert');\n",
              "      buttonEl.style.display =\n",
              "        google.colab.kernel.accessAllowed ? 'block' : 'none';\n",
              "\n",
              "      async function convertToInteractive(key) {\n",
              "        const element = document.querySelector('#df-ca366ce7-3090-4d55-8ad5-7d535f2bd4a3');\n",
              "        const dataTable =\n",
              "          await google.colab.kernel.invokeFunction('convertToInteractive',\n",
              "                                                    [key], {});\n",
              "        if (!dataTable) return;\n",
              "\n",
              "        const docLinkHtml = 'Like what you see? Visit the ' +\n",
              "          '<a target=\"_blank\" href=https://colab.research.google.com/notebooks/data_table.ipynb>data table notebook</a>'\n",
              "          + ' to learn more about interactive tables.';\n",
              "        element.innerHTML = '';\n",
              "        dataTable['output_type'] = 'display_data';\n",
              "        await google.colab.output.renderOutput(dataTable, element);\n",
              "        const docLink = document.createElement('div');\n",
              "        docLink.innerHTML = docLinkHtml;\n",
              "        element.appendChild(docLink);\n",
              "      }\n",
              "    </script>\n",
              "  </div>\n",
              "\n",
              "\n",
              "<div id=\"df-48045d83-a68f-40a3-a8a7-7933ab2d113b\">\n",
              "  <button class=\"colab-df-quickchart\" onclick=\"quickchart('df-48045d83-a68f-40a3-a8a7-7933ab2d113b')\"\n",
              "            title=\"Suggest charts\"\n",
              "            style=\"display:none;\">\n",
              "\n",
              "<svg xmlns=\"http://www.w3.org/2000/svg\" height=\"24px\"viewBox=\"0 0 24 24\"\n",
              "     width=\"24px\">\n",
              "    <g>\n",
              "        <path d=\"M19 3H5c-1.1 0-2 .9-2 2v14c0 1.1.9 2 2 2h14c1.1 0 2-.9 2-2V5c0-1.1-.9-2-2-2zM9 17H7v-7h2v7zm4 0h-2V7h2v10zm4 0h-2v-4h2v4z\"/>\n",
              "    </g>\n",
              "</svg>\n",
              "  </button>\n",
              "\n",
              "<style>\n",
              "  .colab-df-quickchart {\n",
              "      --bg-color: #E8F0FE;\n",
              "      --fill-color: #1967D2;\n",
              "      --hover-bg-color: #E2EBFA;\n",
              "      --hover-fill-color: #174EA6;\n",
              "      --disabled-fill-color: #AAA;\n",
              "      --disabled-bg-color: #DDD;\n",
              "  }\n",
              "\n",
              "  [theme=dark] .colab-df-quickchart {\n",
              "      --bg-color: #3B4455;\n",
              "      --fill-color: #D2E3FC;\n",
              "      --hover-bg-color: #434B5C;\n",
              "      --hover-fill-color: #FFFFFF;\n",
              "      --disabled-bg-color: #3B4455;\n",
              "      --disabled-fill-color: #666;\n",
              "  }\n",
              "\n",
              "  .colab-df-quickchart {\n",
              "    background-color: var(--bg-color);\n",
              "    border: none;\n",
              "    border-radius: 50%;\n",
              "    cursor: pointer;\n",
              "    display: none;\n",
              "    fill: var(--fill-color);\n",
              "    height: 32px;\n",
              "    padding: 0;\n",
              "    width: 32px;\n",
              "  }\n",
              "\n",
              "  .colab-df-quickchart:hover {\n",
              "    background-color: var(--hover-bg-color);\n",
              "    box-shadow: 0 1px 2px rgba(60, 64, 67, 0.3), 0 1px 3px 1px rgba(60, 64, 67, 0.15);\n",
              "    fill: var(--button-hover-fill-color);\n",
              "  }\n",
              "\n",
              "  .colab-df-quickchart-complete:disabled,\n",
              "  .colab-df-quickchart-complete:disabled:hover {\n",
              "    background-color: var(--disabled-bg-color);\n",
              "    fill: var(--disabled-fill-color);\n",
              "    box-shadow: none;\n",
              "  }\n",
              "\n",
              "  .colab-df-spinner {\n",
              "    border: 2px solid var(--fill-color);\n",
              "    border-color: transparent;\n",
              "    border-bottom-color: var(--fill-color);\n",
              "    animation:\n",
              "      spin 1s steps(1) infinite;\n",
              "  }\n",
              "\n",
              "  @keyframes spin {\n",
              "    0% {\n",
              "      border-color: transparent;\n",
              "      border-bottom-color: var(--fill-color);\n",
              "      border-left-color: var(--fill-color);\n",
              "    }\n",
              "    20% {\n",
              "      border-color: transparent;\n",
              "      border-left-color: var(--fill-color);\n",
              "      border-top-color: var(--fill-color);\n",
              "    }\n",
              "    30% {\n",
              "      border-color: transparent;\n",
              "      border-left-color: var(--fill-color);\n",
              "      border-top-color: var(--fill-color);\n",
              "      border-right-color: var(--fill-color);\n",
              "    }\n",
              "    40% {\n",
              "      border-color: transparent;\n",
              "      border-right-color: var(--fill-color);\n",
              "      border-top-color: var(--fill-color);\n",
              "    }\n",
              "    60% {\n",
              "      border-color: transparent;\n",
              "      border-right-color: var(--fill-color);\n",
              "    }\n",
              "    80% {\n",
              "      border-color: transparent;\n",
              "      border-right-color: var(--fill-color);\n",
              "      border-bottom-color: var(--fill-color);\n",
              "    }\n",
              "    90% {\n",
              "      border-color: transparent;\n",
              "      border-bottom-color: var(--fill-color);\n",
              "    }\n",
              "  }\n",
              "</style>\n",
              "\n",
              "  <script>\n",
              "    async function quickchart(key) {\n",
              "      const quickchartButtonEl =\n",
              "        document.querySelector('#' + key + ' button');\n",
              "      quickchartButtonEl.disabled = true;  // To prevent multiple clicks.\n",
              "      quickchartButtonEl.classList.add('colab-df-spinner');\n",
              "      try {\n",
              "        const charts = await google.colab.kernel.invokeFunction(\n",
              "            'suggestCharts', [key], {});\n",
              "      } catch (error) {\n",
              "        console.error('Error during call to suggestCharts:', error);\n",
              "      }\n",
              "      quickchartButtonEl.classList.remove('colab-df-spinner');\n",
              "      quickchartButtonEl.classList.add('colab-df-quickchart-complete');\n",
              "    }\n",
              "    (() => {\n",
              "      let quickchartButtonEl =\n",
              "        document.querySelector('#df-48045d83-a68f-40a3-a8a7-7933ab2d113b button');\n",
              "      quickchartButtonEl.style.display =\n",
              "        google.colab.kernel.accessAllowed ? 'block' : 'none';\n",
              "    })();\n",
              "  </script>\n",
              "</div>\n",
              "\n",
              "  <div id=\"id_8a54fd18-7659-4d13-b3ba-3bafe8dbcfd6\">\n",
              "    <style>\n",
              "      .colab-df-generate {\n",
              "        background-color: #E8F0FE;\n",
              "        border: none;\n",
              "        border-radius: 50%;\n",
              "        cursor: pointer;\n",
              "        display: none;\n",
              "        fill: #1967D2;\n",
              "        height: 32px;\n",
              "        padding: 0 0 0 0;\n",
              "        width: 32px;\n",
              "      }\n",
              "\n",
              "      .colab-df-generate:hover {\n",
              "        background-color: #E2EBFA;\n",
              "        box-shadow: 0px 1px 2px rgba(60, 64, 67, 0.3), 0px 1px 3px 1px rgba(60, 64, 67, 0.15);\n",
              "        fill: #174EA6;\n",
              "      }\n",
              "\n",
              "      [theme=dark] .colab-df-generate {\n",
              "        background-color: #3B4455;\n",
              "        fill: #D2E3FC;\n",
              "      }\n",
              "\n",
              "      [theme=dark] .colab-df-generate:hover {\n",
              "        background-color: #434B5C;\n",
              "        box-shadow: 0px 1px 3px 1px rgba(0, 0, 0, 0.15);\n",
              "        filter: drop-shadow(0px 1px 2px rgba(0, 0, 0, 0.3));\n",
              "        fill: #FFFFFF;\n",
              "      }\n",
              "    </style>\n",
              "    <button class=\"colab-df-generate\" onclick=\"generateWithVariable('importance_df')\"\n",
              "            title=\"Generate code using this dataframe.\"\n",
              "            style=\"display:none;\">\n",
              "\n",
              "  <svg xmlns=\"http://www.w3.org/2000/svg\" height=\"24px\"viewBox=\"0 0 24 24\"\n",
              "       width=\"24px\">\n",
              "    <path d=\"M7,19H8.4L18.45,9,17,7.55,7,17.6ZM5,21V16.75L18.45,3.32a2,2,0,0,1,2.83,0l1.4,1.43a1.91,1.91,0,0,1,.58,1.4,1.91,1.91,0,0,1-.58,1.4L9.25,21ZM18.45,9,17,7.55Zm-12,3A5.31,5.31,0,0,0,4.9,8.1,5.31,5.31,0,0,0,1,6.5,5.31,5.31,0,0,0,4.9,4.9,5.31,5.31,0,0,0,6.5,1,5.31,5.31,0,0,0,8.1,4.9,5.31,5.31,0,0,0,12,6.5,5.46,5.46,0,0,0,6.5,12Z\"/>\n",
              "  </svg>\n",
              "    </button>\n",
              "    <script>\n",
              "      (() => {\n",
              "      const buttonEl =\n",
              "        document.querySelector('#id_8a54fd18-7659-4d13-b3ba-3bafe8dbcfd6 button.colab-df-generate');\n",
              "      buttonEl.style.display =\n",
              "        google.colab.kernel.accessAllowed ? 'block' : 'none';\n",
              "\n",
              "      buttonEl.onclick = () => {\n",
              "        google.colab.notebook.generateWithVariable('importance_df');\n",
              "      }\n",
              "      })();\n",
              "    </script>\n",
              "  </div>\n",
              "\n",
              "    </div>\n",
              "  </div>\n"
            ],
            "application/vnd.google.colaboratory.intrinsic+json": {
              "type": "dataframe",
              "variable_name": "importance_df",
              "summary": "{\n  \"name\": \"importance_df\",\n  \"rows\": 15,\n  \"fields\": [\n    {\n      \"column\": \"feature\",\n      \"properties\": {\n        \"dtype\": \"string\",\n        \"num_unique_values\": 15,\n        \"samples\": [\n          \"VEHICLES\",\n          \"COSTGAS\",\n          \"BEDROOMS\"\n        ],\n        \"semantic_type\": \"\",\n        \"description\": \"\"\n      }\n    },\n    {\n      \"column\": \"importance\",\n      \"properties\": {\n        \"dtype\": \"number\",\n        \"std\": 0.024647236448540534,\n        \"min\": -0.0014000000000000234,\n        \"max\": 0.09313333333333336,\n        \"num_unique_values\": 15,\n        \"samples\": [\n          0.001200000000000001,\n          0.000333333333333341,\n          0.09313333333333336\n        ],\n        \"semantic_type\": \"\",\n        \"description\": \"\"\n      }\n    }\n  ]\n}"
            }
          },
          "metadata": {},
          "execution_count": 147
        }
      ]
    },
    {
      "cell_type": "code",
      "source": [
        "imp_df = sampled_df[[ 'AGE', 'BEDROOMS','OWNERSHP']]\n",
        "\n",
        "X = imp_df.drop(['OWNERSHP'], axis=1)\n",
        "y = imp_df['OWNERSHP']\n",
        "\n",
        "X_train, X_test, y_train, y_test = train_test_split(X, y, test_size=0.3, random_state=1, stratify=y)\n",
        "\n",
        "scaling = MinMaxScaler(feature_range=(-1,1)).fit(X_train)\n",
        "X_train = scaling.transform(X_train)\n",
        "X_test = scaling.transform(X_test)\n",
        "\n",
        "svc_ = SVC(kernel='linear', C=0.1, cache_size=10000, random_state=1, max_iter=20000)\n",
        "svc_.fit(X_train, y_train)  # Update to use features 6 and 8\n",
        "\n",
        "class_labels = ['Class 0', 'Class 1']\n",
        "# define a grid of points\n",
        "x_min, x_max = X_train[:, 0].min() - 1, X_train[:, 0].max() + 1\n",
        "y_min, y_max = X_train[:, 1].min() - 1, X_train[:, 1].max() + 1\n",
        "xx, yy = np.meshgrid(np.arange(x_min, x_max, 0.01), np.arange(y_min, y_max, 0.01))\n",
        "Z = svc_.predict(np.c_[xx.ravel(), yy.ravel()])\n",
        "Z = Z.reshape(xx.shape)\n",
        "\n",
        "# plot the decision boundary surface\n",
        "# plt.contourf(xx, yy, Z, cmap=plt.cm.Paired)\n",
        "plt.contourf(xx, yy, Z, cmap=plt.cm.Paired, alpha=0.8)\n",
        "\n",
        "plt.scatter(X_train[:, 0], X_train[:, 1], c=y_train, cmap=plt.cm.Paired, edgecolors='k')\n",
        "plt.xlabel('Age')\n",
        "plt.ylabel('Bedrooms')\n",
        "# plt.legend(class_labels)\n",
        "plt.title('Decision Boundary Surface')\n",
        "plt.show()"
      ],
      "metadata": {
        "colab": {
          "base_uri": "https://localhost:8080/",
          "height": 472
        },
        "id": "M-S0-WJF4Q-z",
        "outputId": "93472851-4b21-4515-943b-427f6b6cb17c"
      },
      "execution_count": 148,
      "outputs": [
        {
          "output_type": "display_data",
          "data": {
            "text/plain": [
              "<Figure size 640x480 with 1 Axes>"
            ],
            "image/png": "[encoded data removed]"
          },
          "metadata": {}
        }
      ]
    },
    {
      "cell_type": "code",
      "source": [
        "y_pred = svc_.predict(X_test)\n",
        "\n",
        "# create confusion matrix\n",
        "conf_matrix = pd.crosstab(index=y_pred, columns=y_test, rownames=[''])\n",
        "\n",
        "# create a heatmap of the confusion matrix\n",
        "sns.heatmap(conf_matrix, annot=True, cmap=\"Blues\", fmt=\"d\")\n",
        "\n",
        "# add labels to the plot\n",
        "plt.title(\"Confusion Matrix: Linear\")\n",
        "plt.xlabel(\"Predicted Label\")\n",
        "plt.ylabel(\"True Label\")\n",
        "plt.show()"
      ],
      "metadata": {
        "colab": {
          "base_uri": "https://localhost:8080/",
          "height": 472
        },
        "id": "jCKcxcavqusM",
        "outputId": "9a8af55f-6e55-45c6-be78-9b7112c5afd2"
      },
      "execution_count": 149,
      "outputs": [
        {
          "output_type": "display_data",
          "data": {
            "text/plain": [
              "<Figure size 640x480 with 2 Axes>"
            ],
            "image/png": "[encoded data removed]"
          },
          "metadata": {}
        }
      ]
    },
    {
      "cell_type": "code",
      "source": [
        "print('Test Error',np.mean(y_pred != y_test))\n",
        "print('Test Accuracy',np.mean(y_pred == y_test))"
      ],
      "metadata": {
        "colab": {
          "base_uri": "https://localhost:8080/",
          "height": 0
        },
        "id": "winLo1iGiCwM",
        "outputId": "9f0008ab-9b51-4fa5-ed76-58728d65d091"
      },
      "execution_count": 150,
      "outputs": [
        {
          "output_type": "stream",
          "name": "stdout",
          "text": [
            "Test Error 0.188\n",
            "Test Accuracy 0.812\n"
          ]
        }
      ]
    },
    {
      "cell_type": "code",
      "execution_count": 151,
      "metadata": {
        "id": "N6UOQQzMb6WM",
        "colab": {
          "base_uri": "https://localhost:8080/",
          "height": 0
        },
        "outputId": "04468ac7-2135-48c8-e248-578019fe3624"
      },
      "outputs": [
        {
          "output_type": "stream",
          "name": "stdout",
          "text": [
            "COST:  {'C': 100, 'gamma': 2}\n",
            "Best Cross-validation error rate: 0.18%\n",
            "classification_report of on test data\n",
            "              precision    recall  f1-score   support\n",
            "\n",
            "           1       0.82      0.94      0.88      2119\n",
            "           2       0.77      0.51      0.61       881\n",
            "\n",
            "    accuracy                           0.81      3000\n",
            "   macro avg       0.80      0.72      0.75      3000\n",
            "weighted avg       0.81      0.81      0.80      3000\n",
            "\n"
          ]
        }
      ],
      "source": [
        "# @title Radial Kernel\n",
        "grid_params = {'C': [0.1,1,10,100],'gamma' : [2,4]}\n",
        "svcfit_rbf = SVC(kernel = 'rbf',cache_size = 10000,random_state = 42, max_iter = 15000)\n",
        "tune_rbf = GridSearchCV(svcfit_rbf, grid_params ,cv=10)\n",
        "tune_rbf.fit(X_train,y_train)\n",
        "\n",
        "print('COST: ',tune_rbf.best_params_)\n",
        "print('Best Cross-validation error rate: {:.2f}%'.format(1 - tune_rbf.best_score_))\n",
        "print('classification_report of on test data')\n",
        "y_pred_rbf = tune_rbf.predict(X_test)\n",
        "print(classification_report(y_test,y_pred))"
      ]
    },
    {
      "cell_type": "code",
      "source": [
        "svc_best = SVC(kernel='rbf', C=tune_rbf.best_params_['C'],gamma = tune_rbf.best_params_['gamma'],cache_size=10000, random_state=42, max_iter=20000)\n",
        "\n",
        "# fit the classifier to the training data\n",
        "svc_best.fit(X_train, y_train)  # Update to use features 6 and 8\n",
        "\n",
        "class_labels = ['Class 0', 'Class 1']\n",
        "# define a grid of points\n",
        "x_min, x_max = X_train[:, 0].min() - 1, X_train[:, 0].max() + 1\n",
        "y_min, y_max = X_train[:, 1].min() - 1, X_train[:, 1].max() + 1\n",
        "xx, yy = np.meshgrid(np.arange(x_min, x_max, 0.01), np.arange(y_min, y_max, 0.01))\n",
        "Z = svc_best.predict(np.c_[xx.ravel(), yy.ravel()])\n",
        "Z = Z.reshape(xx.shape)\n",
        "\n",
        "# plot the decision boundary surface\n",
        "# plt.contourf(xx, yy, Z, cmap=plt.cm.Paired)\n",
        "plt.contourf(xx, yy, Z, cmap=plt.cm.Paired, alpha=0.8)\n",
        "\n",
        "plt.scatter(X_train[:, 0], X_train[:, 1], c=y_train, cmap=plt.cm.Paired, edgecolors='k')\n",
        "plt.xlabel('Age')\n",
        "plt.ylabel('Bedrooms')\n",
        "# plt.legend(class_labels)\n",
        "plt.title('Decision Boundary Surface - RADIAL SVM')\n",
        "plt.show()"
      ],
      "metadata": {
        "colab": {
          "base_uri": "https://localhost:8080/",
          "height": 472
        },
        "id": "_QnIDPbO7iH1",
        "outputId": "010d6221-0686-4d2c-8cac-d0cc7aaefea9"
      },
      "execution_count": 152,
      "outputs": [
        {
          "output_type": "display_data",
          "data": {
            "text/plain": [
              "<Figure size 640x480 with 1 Axes>"
            ],
            "image/png": "[encoded data removed]"
          },
          "metadata": {}
        }
      ]
    },
    {
      "cell_type": "code",
      "execution_count": 153,
      "metadata": {
        "id": "00c-7x50b68K",
        "colab": {
          "base_uri": "https://localhost:8080/",
          "height": 472
        },
        "outputId": "5e7c2e76-3fcd-4133-b3ca-f30347c54ea3"
      },
      "outputs": [
        {
          "output_type": "display_data",
          "data": {
            "text/plain": [
              "<Figure size 640x480 with 2 Axes>"
            ],
            "image/png": "[encoded data removed]"
          },
          "metadata": {}
        }
      ],
      "source": [
        "y_pred = tune_rbf.predict(X_test)\n",
        "\n",
        "# create confusion matrix\n",
        "conf_matrix = pd.crosstab(index=y_pred, columns=y_test, rownames=[''])\n",
        "\n",
        "# create a heatmap of the confusion matrix\n",
        "sns.heatmap(conf_matrix, annot=True, cmap=\"Blues\", fmt=\"d\")\n",
        "\n",
        "# add labels to the plot\n",
        "plt.title(\"Confusion Matrix : RBF\")\n",
        "plt.xlabel(\"Predicted Label\")\n",
        "plt.ylabel(\"True Label\")\n",
        "plt.show()"
      ]
    },
    {
      "cell_type": "code",
      "execution_count": 154,
      "metadata": {
        "id": "osSD7PpEb7Gn",
        "colab": {
          "base_uri": "https://localhost:8080/",
          "height": 0
        },
        "outputId": "23345602-a995-4128-92a4-31c96d65e8e3"
      },
      "outputs": [
        {
          "output_type": "stream",
          "name": "stdout",
          "text": [
            "Test Error 0.178\n",
            "Test Accuracy 0.822\n"
          ]
        }
      ],
      "source": [
        "# @title\n",
        "print('Test Error',np.mean(y_pred != y_test))\n",
        "print('Test Accuracy',np.mean(y_pred == y_test))"
      ]
    },
    {
      "cell_type": "code",
      "execution_count": 155,
      "metadata": {
        "id": "rmHW3ocrppI6",
        "colab": {
          "base_uri": "https://localhost:8080/",
          "height": 0
        },
        "outputId": "b38d234d-c51b-433a-a62c-c0ffd6b6e728"
      },
      "outputs": [
        {
          "output_type": "stream",
          "name": "stdout",
          "text": [
            "COST:  {'C': 10, 'degree': 2, 'gamma': 2}\n",
            "Least CV error rate: 0.19%\n",
            "              precision    recall  f1-score   support\n",
            "\n",
            "           1       0.83      0.93      0.88      2119\n",
            "           2       0.77      0.53      0.63       881\n",
            "\n",
            "    accuracy                           0.82      3000\n",
            "   macro avg       0.80      0.73      0.75      3000\n",
            "weighted avg       0.81      0.82      0.80      3000\n",
            "\n"
          ]
        }
      ],
      "source": [
        "# @title Polynomial\n",
        "svcfit_poly = SVC(kernel = 'poly',cache_size = 10000,max_iter=15000, random_state = 1)\n",
        "grid_params = {'C': [0.1,1,10],'gamma' : [2,4], 'degree' : [2,3,4]}\n",
        "tune_poly = GridSearchCV(svcfit, grid_params ,cv=10)\n",
        "tune_poly.fit(X_train,y_train)\n",
        "print('COST: ',tune_poly.best_params_)\n",
        "print('Least CV error rate: {:.2f}%'.format(1 - tune_poly.best_score_))\n",
        "y_pred = tune_poly.predict(X_test)\n",
        "print(classification_report(y_test,y_pred))"
      ]
    },
    {
      "cell_type": "code",
      "execution_count": 156,
      "metadata": {
        "id": "5WtrwFpfppOh",
        "colab": {
          "base_uri": "https://localhost:8080/",
          "height": 472
        },
        "outputId": "078d67e5-2bb0-4eec-9d96-29b7b39d1240"
      },
      "outputs": [
        {
          "output_type": "display_data",
          "data": {
            "text/plain": [
              "<Figure size 640x480 with 1 Axes>"
            ],
            "image/png": "[encoded data removed]"
          },
          "metadata": {}
        }
      ],
      "source": [
        "# @title\n",
        "svc_best_poly = SVC(kernel='poly', C=tune_poly.best_params_['C'],gamma = tune_poly.best_params_['gamma'],degree = tune_poly.best_params_['degree'],cache_size=10000, random_state=1, max_iter=20000)\n",
        "svc_best_poly.fit(X_train, y_train)\n",
        "\n",
        "class_labels = ['Class 0', 'Class 1']\n",
        "\n",
        "# define a grid of points\n",
        "x_min, x_max = X_train[:, 0].min() - 1, X_train[:, 0].max() + 1\n",
        "y_min, y_max = X_train[:, 1].min() - 1, X_train[:, 1].max() + 1\n",
        "xx, yy = np.meshgrid(np.arange(x_min, x_max, 0.01), np.arange(y_min, y_max, 0.01))\n",
        "Z = svc_best_poly.predict(np.c_[xx.ravel(), yy.ravel()])\n",
        "Z = Z.reshape(xx.shape)\n",
        "\n",
        "# plot the decision boundary surface\n",
        "# plt.contourf(xx, yy, Z, cmap=plt.cm.Paired)\n",
        "plt.contourf(xx, yy, Z, cmap=plt.cm.Paired)\n",
        "\n",
        "plt.scatter(X_train[:, 0], X_train[:, 1], c=y_train, cmap=plt.cm.Paired, edgecolors='k')\n",
        "plt.xlabel('Age')\n",
        "plt.ylabel('Bedrooms')  # Update the label to the actual feature name if known\n",
        "plt.title('SVC with polynomial kernel - Decision Boundary for Top 2 Features')\n",
        "plt.show()"
      ]
    },
    {
      "cell_type": "code",
      "execution_count": 157,
      "metadata": {
        "id": "jA9XIXZCppSA",
        "colab": {
          "base_uri": "https://localhost:8080/",
          "height": 472
        },
        "outputId": "e68a5796-1731-4d75-d8b5-0286bb21c1c0"
      },
      "outputs": [
        {
          "output_type": "display_data",
          "data": {
            "text/plain": [
              "<Figure size 640x480 with 2 Axes>"
            ],
            "image/png": "[encoded data removed]"
          },
          "metadata": {}
        }
      ],
      "source": [
        "# @title\n",
        "y_pred = tune_poly.predict(X_test)\n",
        "\n",
        "# create confusion matrix\n",
        "conf_matrix = pd.crosstab(index=y_pred, columns=y_test, rownames=[''])\n",
        "\n",
        "# create a heatmap of the confusion matrix\n",
        "sns.heatmap(conf_matrix, annot=True, cmap=\"Blues\", fmt=\"d\")\n",
        "\n",
        "# add labels to the plot\n",
        "plt.title(\"Confusion Matrix : Polynomial\")\n",
        "plt.xlabel(\"Predicted Label\")\n",
        "plt.ylabel(\"True Label\")\n",
        "plt.show()"
      ]
    },
    {
      "cell_type": "code",
      "execution_count": 158,
      "metadata": {
        "id": "anYQK-sBppU2",
        "colab": {
          "base_uri": "https://localhost:8080/",
          "height": 0
        },
        "outputId": "1fbb566f-89cb-45cf-ebce-c80cb26d4ed7"
      },
      "outputs": [
        {
          "output_type": "stream",
          "name": "stdout",
          "text": [
            "Test Error 0.18466666666666667\n",
            "Test Accuracy 0.8153333333333334\n"
          ]
        }
      ],
      "source": [
        "# @title\n",
        "print('Test Error',np.mean(y_pred != y_test))\n",
        "print('Test Accuracy',np.mean(y_pred == y_test))"
      ]
    },
    {
      "cell_type": "code",
      "execution_count": 159,
      "metadata": {
        "id": "7r6_QjONppXi"
      },
      "outputs": [],
      "source": [
        "# @title"
      ]
    }
  ]
}